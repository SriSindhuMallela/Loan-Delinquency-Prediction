{
 "cells": [
  {
   "cell_type": "markdown",
   "metadata": {
    "heading_collapsed": true
   },
   "source": [
    "# Import Libraries"
   ]
  },
  {
   "cell_type": "code",
   "execution_count": 709,
   "metadata": {
    "ExecuteTime": {
     "end_time": "2019-09-25T19:40:02.321307Z",
     "start_time": "2019-09-25T19:40:02.314156Z"
    },
    "hidden": true
   },
   "outputs": [],
   "source": [
    "# library imports\n",
    "import sklearn\n",
    "import matplotlib\n",
    "import numpy as np\n",
    "%matplotlib inline\n",
    "import pandas as pd\n",
    "from sklearn import tree\n",
    "import matplotlib.pyplot as plt\n",
    "from xgboost import XGBClassifier\n",
    "from xgboost import XGBRFClassifier\n",
    "from IPython import InteractiveShell\n",
    "from xgboost import plot_importance\n",
    "from sklearn.metrics import f1_score\n",
    "from imblearn.over_sampling import ADASYN\n",
    "from sklearn.preprocessing import OneHotEncoder\n",
    "from sklearn.tree import DecisionTreeClassifier\n",
    "from sklearn.preprocessing import StandardScaler\n",
    "from sklearn.neural_network import MLPClassifier\n",
    "from sklearn.neighbors import KNeighborsClassifier\n",
    "from sklearn.compose import make_column_transformer\n",
    "from sklearn.linear_model import LogisticRegression\n",
    "from sklearn.ensemble import RandomForestClassifier,AdaBoostClassifier\n",
    "from sklearn.model_selection import train_test_split,GridSearchCV,RandomizedSearchCV"
   ]
  },
  {
   "cell_type": "code",
   "execution_count": 710,
   "metadata": {
    "ExecuteTime": {
     "end_time": "2019-09-25T19:40:02.613965Z",
     "start_time": "2019-09-25T19:40:02.611250Z"
    },
    "hidden": true
   },
   "outputs": [],
   "source": [
    "# configurations for pretty display\n",
    "InteractiveShell.ast_node_interactivity=\"all\"\n",
    "pd.set_option('max_colwidth',-1)\n",
    "pd.set_option('max_columns',None)"
   ]
  },
  {
   "cell_type": "markdown",
   "metadata": {
    "heading_collapsed": true
   },
   "source": [
    "# Load Data"
   ]
  },
  {
   "cell_type": "code",
   "execution_count": 627,
   "metadata": {
    "ExecuteTime": {
     "end_time": "2019-09-25T18:50:02.931875Z",
     "start_time": "2019-09-25T18:50:02.438369Z"
    },
    "hidden": true
   },
   "outputs": [
    {
     "data": {
      "text/html": [
       "<div>\n",
       "<style scoped>\n",
       "    .dataframe tbody tr th:only-of-type {\n",
       "        vertical-align: middle;\n",
       "    }\n",
       "\n",
       "    .dataframe tbody tr th {\n",
       "        vertical-align: top;\n",
       "    }\n",
       "\n",
       "    .dataframe thead th {\n",
       "        text-align: right;\n",
       "    }\n",
       "</style>\n",
       "<table border=\"1\" class=\"dataframe\">\n",
       "  <thead>\n",
       "    <tr style=\"text-align: right;\">\n",
       "      <th></th>\n",
       "      <th>loan_id</th>\n",
       "      <th>source</th>\n",
       "      <th>financial_institution</th>\n",
       "      <th>interest_rate</th>\n",
       "      <th>unpaid_principal_bal</th>\n",
       "      <th>loan_term</th>\n",
       "      <th>origination_date</th>\n",
       "      <th>first_payment_date</th>\n",
       "      <th>loan_to_value</th>\n",
       "      <th>number_of_borrowers</th>\n",
       "      <th>debt_to_income_ratio</th>\n",
       "      <th>borrower_credit_score</th>\n",
       "      <th>loan_purpose</th>\n",
       "      <th>insurance_percent</th>\n",
       "      <th>co-borrower_credit_score</th>\n",
       "      <th>insurance_type</th>\n",
       "      <th>m1</th>\n",
       "      <th>m2</th>\n",
       "      <th>m3</th>\n",
       "      <th>m4</th>\n",
       "      <th>m5</th>\n",
       "      <th>m6</th>\n",
       "      <th>m7</th>\n",
       "      <th>m8</th>\n",
       "      <th>m9</th>\n",
       "      <th>m10</th>\n",
       "      <th>m11</th>\n",
       "      <th>m12</th>\n",
       "      <th>m13</th>\n",
       "    </tr>\n",
       "  </thead>\n",
       "  <tbody>\n",
       "    <tr>\n",
       "      <th>0</th>\n",
       "      <td>268055008619</td>\n",
       "      <td>Z</td>\n",
       "      <td>Turner, Baldwin and Rhodes</td>\n",
       "      <td>4.250</td>\n",
       "      <td>214000</td>\n",
       "      <td>360</td>\n",
       "      <td>2012-03-01</td>\n",
       "      <td>05/2012</td>\n",
       "      <td>95</td>\n",
       "      <td>1.0</td>\n",
       "      <td>22.0</td>\n",
       "      <td>694.0</td>\n",
       "      <td>C86</td>\n",
       "      <td>30.0</td>\n",
       "      <td>0.0</td>\n",
       "      <td>0.0</td>\n",
       "      <td>0</td>\n",
       "      <td>0</td>\n",
       "      <td>0</td>\n",
       "      <td>0</td>\n",
       "      <td>0</td>\n",
       "      <td>0</td>\n",
       "      <td>1</td>\n",
       "      <td>0</td>\n",
       "      <td>0</td>\n",
       "      <td>0</td>\n",
       "      <td>0</td>\n",
       "      <td>0</td>\n",
       "      <td>1</td>\n",
       "    </tr>\n",
       "    <tr>\n",
       "      <th>1</th>\n",
       "      <td>672831657627</td>\n",
       "      <td>Y</td>\n",
       "      <td>Swanson, Newton and Miller</td>\n",
       "      <td>4.875</td>\n",
       "      <td>144000</td>\n",
       "      <td>360</td>\n",
       "      <td>2012-01-01</td>\n",
       "      <td>03/2012</td>\n",
       "      <td>72</td>\n",
       "      <td>1.0</td>\n",
       "      <td>44.0</td>\n",
       "      <td>697.0</td>\n",
       "      <td>B12</td>\n",
       "      <td>0.0</td>\n",
       "      <td>0.0</td>\n",
       "      <td>0.0</td>\n",
       "      <td>0</td>\n",
       "      <td>0</td>\n",
       "      <td>0</td>\n",
       "      <td>0</td>\n",
       "      <td>0</td>\n",
       "      <td>0</td>\n",
       "      <td>0</td>\n",
       "      <td>0</td>\n",
       "      <td>0</td>\n",
       "      <td>0</td>\n",
       "      <td>1</td>\n",
       "      <td>0</td>\n",
       "      <td>1</td>\n",
       "    </tr>\n",
       "    <tr>\n",
       "      <th>2</th>\n",
       "      <td>742515242108</td>\n",
       "      <td>Z</td>\n",
       "      <td>Thornton-Davis</td>\n",
       "      <td>3.250</td>\n",
       "      <td>366000</td>\n",
       "      <td>180</td>\n",
       "      <td>2012-01-01</td>\n",
       "      <td>03/2012</td>\n",
       "      <td>49</td>\n",
       "      <td>1.0</td>\n",
       "      <td>33.0</td>\n",
       "      <td>780.0</td>\n",
       "      <td>B12</td>\n",
       "      <td>0.0</td>\n",
       "      <td>0.0</td>\n",
       "      <td>0.0</td>\n",
       "      <td>0</td>\n",
       "      <td>0</td>\n",
       "      <td>0</td>\n",
       "      <td>0</td>\n",
       "      <td>0</td>\n",
       "      <td>0</td>\n",
       "      <td>0</td>\n",
       "      <td>0</td>\n",
       "      <td>0</td>\n",
       "      <td>0</td>\n",
       "      <td>0</td>\n",
       "      <td>0</td>\n",
       "      <td>1</td>\n",
       "    </tr>\n",
       "    <tr>\n",
       "      <th>3</th>\n",
       "      <td>601385667462</td>\n",
       "      <td>X</td>\n",
       "      <td>OTHER</td>\n",
       "      <td>4.750</td>\n",
       "      <td>135000</td>\n",
       "      <td>360</td>\n",
       "      <td>2012-02-01</td>\n",
       "      <td>04/2012</td>\n",
       "      <td>46</td>\n",
       "      <td>2.0</td>\n",
       "      <td>44.0</td>\n",
       "      <td>633.0</td>\n",
       "      <td>B12</td>\n",
       "      <td>0.0</td>\n",
       "      <td>638.0</td>\n",
       "      <td>0.0</td>\n",
       "      <td>0</td>\n",
       "      <td>0</td>\n",
       "      <td>0</td>\n",
       "      <td>0</td>\n",
       "      <td>0</td>\n",
       "      <td>0</td>\n",
       "      <td>0</td>\n",
       "      <td>0</td>\n",
       "      <td>1</td>\n",
       "      <td>1</td>\n",
       "      <td>1</td>\n",
       "      <td>1</td>\n",
       "      <td>1</td>\n",
       "    </tr>\n",
       "    <tr>\n",
       "      <th>4</th>\n",
       "      <td>273870029961</td>\n",
       "      <td>X</td>\n",
       "      <td>OTHER</td>\n",
       "      <td>4.750</td>\n",
       "      <td>124000</td>\n",
       "      <td>360</td>\n",
       "      <td>2012-02-01</td>\n",
       "      <td>04/2012</td>\n",
       "      <td>80</td>\n",
       "      <td>1.0</td>\n",
       "      <td>43.0</td>\n",
       "      <td>681.0</td>\n",
       "      <td>C86</td>\n",
       "      <td>0.0</td>\n",
       "      <td>0.0</td>\n",
       "      <td>0.0</td>\n",
       "      <td>0</td>\n",
       "      <td>1</td>\n",
       "      <td>2</td>\n",
       "      <td>3</td>\n",
       "      <td>4</td>\n",
       "      <td>5</td>\n",
       "      <td>6</td>\n",
       "      <td>7</td>\n",
       "      <td>8</td>\n",
       "      <td>9</td>\n",
       "      <td>10</td>\n",
       "      <td>11</td>\n",
       "      <td>1</td>\n",
       "    </tr>\n",
       "  </tbody>\n",
       "</table>\n",
       "</div>"
      ],
      "text/plain": [
       "        loan_id source       financial_institution  interest_rate  \\\n",
       "0  268055008619  Z      Turner, Baldwin and Rhodes  4.250           \n",
       "1  672831657627  Y      Swanson, Newton and Miller  4.875           \n",
       "2  742515242108  Z      Thornton-Davis              3.250           \n",
       "3  601385667462  X      OTHER                       4.750           \n",
       "4  273870029961  X      OTHER                       4.750           \n",
       "\n",
       "   unpaid_principal_bal  loan_term origination_date first_payment_date  \\\n",
       "0  214000                360        2012-03-01       05/2012             \n",
       "1  144000                360        2012-01-01       03/2012             \n",
       "2  366000                180        2012-01-01       03/2012             \n",
       "3  135000                360        2012-02-01       04/2012             \n",
       "4  124000                360        2012-02-01       04/2012             \n",
       "\n",
       "   loan_to_value  number_of_borrowers  debt_to_income_ratio  \\\n",
       "0  95             1.0                  22.0                   \n",
       "1  72             1.0                  44.0                   \n",
       "2  49             1.0                  33.0                   \n",
       "3  46             2.0                  44.0                   \n",
       "4  80             1.0                  43.0                   \n",
       "\n",
       "   borrower_credit_score loan_purpose  insurance_percent  \\\n",
       "0  694.0                  C86          30.0                \n",
       "1  697.0                  B12          0.0                 \n",
       "2  780.0                  B12          0.0                 \n",
       "3  633.0                  B12          0.0                 \n",
       "4  681.0                  C86          0.0                 \n",
       "\n",
       "   co-borrower_credit_score  insurance_type  m1  m2  m3  m4  m5  m6  m7  m8  \\\n",
       "0  0.0                       0.0             0   0   0   0   0   0   1   0    \n",
       "1  0.0                       0.0             0   0   0   0   0   0   0   0    \n",
       "2  0.0                       0.0             0   0   0   0   0   0   0   0    \n",
       "3  638.0                     0.0             0   0   0   0   0   0   0   0    \n",
       "4  0.0                       0.0             0   1   2   3   4   5   6   7    \n",
       "\n",
       "   m9  m10  m11  m12  m13  \n",
       "0  0   0    0    0    1    \n",
       "1  0   0    1    0    1    \n",
       "2  0   0    0    0    1    \n",
       "3  1   1    1    1    1    \n",
       "4  8   9    10   11   1    "
      ]
     },
     "execution_count": 627,
     "metadata": {},
     "output_type": "execute_result"
    },
    {
     "data": {
      "text/plain": [
       "116058"
      ]
     },
     "execution_count": 627,
     "metadata": {},
     "output_type": "execute_result"
    }
   ],
   "source": [
    "# load data\n",
    "df=pd.read_csv('Data/train.csv')\n",
    "df.head()\n",
    "len(df)"
   ]
  },
  {
   "cell_type": "markdown",
   "metadata": {
    "heading_collapsed": true
   },
   "source": [
    "# Treat Class Imbalance for Exploratory Data Analysis (EDA)"
   ]
  },
  {
   "cell_type": "code",
   "execution_count": 628,
   "metadata": {
    "ExecuteTime": {
     "end_time": "2019-09-25T18:50:02.991374Z",
     "start_time": "2019-09-25T18:50:02.938373Z"
    },
    "hidden": true
   },
   "outputs": [
    {
     "data": {
      "text/plain": [
       "Index(['source', 'financial_institution', 'interest_rate',\n",
       "       'unpaid_principal_bal', 'loan_term', 'origination_date',\n",
       "       'first_payment_date', 'loan_to_value', 'number_of_borrowers',\n",
       "       'debt_to_income_ratio', 'borrower_credit_score', 'loan_purpose',\n",
       "       'insurance_percent', 'co-borrower_credit_score', 'insurance_type', 'm1',\n",
       "       'm2', 'm3', 'm4', 'm5', 'm6', 'm7', 'm8', 'm9', 'm10', 'm11', 'm12',\n",
       "       'delinquency'],\n",
       "      dtype='object')"
      ]
     },
     "execution_count": 628,
     "metadata": {},
     "output_type": "execute_result"
    }
   ],
   "source": [
    "# drop loan_id column\n",
    "df.drop(columns=['loan_id'],axis=1,inplace=True)\n",
    "# rename the target\n",
    "df.rename(columns={'m13':'delinquency'},inplace=True)\n",
    "df.columns"
   ]
  },
  {
   "cell_type": "code",
   "execution_count": 629,
   "metadata": {
    "ExecuteTime": {
     "end_time": "2019-09-25T18:50:03.014304Z",
     "start_time": "2019-09-25T18:50:02.996908Z"
    },
    "hidden": true,
    "scrolled": true
   },
   "outputs": [
    {
     "data": {
      "text/plain": [
       "0    0.99\n",
       "1    0.01\n",
       "Name: delinquency, dtype: float64"
      ]
     },
     "execution_count": 629,
     "metadata": {},
     "output_type": "execute_result"
    },
    {
     "name": "stdout",
     "output_type": "stream",
     "text": [
      "\u001b[1mHuge imbalance\n"
     ]
    }
   ],
   "source": [
    "# distribution of delinquency in the data\n",
    "round(df.delinquency.value_counts(normalize=True),2)\n",
    "print(\"\\033[1mHuge imbalance\")"
   ]
  },
  {
   "cell_type": "markdown",
   "metadata": {
    "heading_collapsed": true,
    "hidden": true
   },
   "source": [
    "## Random Oversampling"
   ]
  },
  {
   "cell_type": "code",
   "execution_count": 630,
   "metadata": {
    "ExecuteTime": {
     "end_time": "2019-09-25T18:50:03.317402Z",
     "start_time": "2019-09-25T18:50:03.016939Z"
    },
    "hidden": true
   },
   "outputs": [
    {
     "data": {
      "text/plain": [
       "1    0.5\n",
       "0    0.5\n",
       "Name: delinquency, dtype: float64"
      ]
     },
     "execution_count": 630,
     "metadata": {},
     "output_type": "execute_result"
    },
    {
     "data": {
      "text/html": [
       "<div>\n",
       "<style scoped>\n",
       "    .dataframe tbody tr th:only-of-type {\n",
       "        vertical-align: middle;\n",
       "    }\n",
       "\n",
       "    .dataframe tbody tr th {\n",
       "        vertical-align: top;\n",
       "    }\n",
       "\n",
       "    .dataframe thead th {\n",
       "        text-align: right;\n",
       "    }\n",
       "</style>\n",
       "<table border=\"1\" class=\"dataframe\">\n",
       "  <thead>\n",
       "    <tr style=\"text-align: right;\">\n",
       "      <th></th>\n",
       "      <th>source</th>\n",
       "      <th>financial_institution</th>\n",
       "      <th>interest_rate</th>\n",
       "      <th>unpaid_principal_bal</th>\n",
       "      <th>loan_term</th>\n",
       "      <th>origination_date</th>\n",
       "      <th>first_payment_date</th>\n",
       "      <th>loan_to_value</th>\n",
       "      <th>number_of_borrowers</th>\n",
       "      <th>debt_to_income_ratio</th>\n",
       "      <th>borrower_credit_score</th>\n",
       "      <th>loan_purpose</th>\n",
       "      <th>insurance_percent</th>\n",
       "      <th>co-borrower_credit_score</th>\n",
       "      <th>insurance_type</th>\n",
       "      <th>m1</th>\n",
       "      <th>m2</th>\n",
       "      <th>m3</th>\n",
       "      <th>m4</th>\n",
       "      <th>m5</th>\n",
       "      <th>m6</th>\n",
       "      <th>m7</th>\n",
       "      <th>m8</th>\n",
       "      <th>m9</th>\n",
       "      <th>m10</th>\n",
       "      <th>m11</th>\n",
       "      <th>m12</th>\n",
       "      <th>delinquency</th>\n",
       "    </tr>\n",
       "  </thead>\n",
       "  <tbody>\n",
       "    <tr>\n",
       "      <th>0</th>\n",
       "      <td>Y</td>\n",
       "      <td>Edwards-Hoffman</td>\n",
       "      <td>3.750</td>\n",
       "      <td>345000</td>\n",
       "      <td>240</td>\n",
       "      <td>2012-02-01</td>\n",
       "      <td>04/2012</td>\n",
       "      <td>42</td>\n",
       "      <td>2.0</td>\n",
       "      <td>39.0</td>\n",
       "      <td>806.0</td>\n",
       "      <td>A23</td>\n",
       "      <td>0.0</td>\n",
       "      <td>795.0</td>\n",
       "      <td>0.0</td>\n",
       "      <td>0</td>\n",
       "      <td>0</td>\n",
       "      <td>0</td>\n",
       "      <td>0</td>\n",
       "      <td>0</td>\n",
       "      <td>0</td>\n",
       "      <td>0</td>\n",
       "      <td>0</td>\n",
       "      <td>0</td>\n",
       "      <td>0</td>\n",
       "      <td>0</td>\n",
       "      <td>0</td>\n",
       "      <td>0</td>\n",
       "    </tr>\n",
       "    <tr>\n",
       "      <th>1</th>\n",
       "      <td>X</td>\n",
       "      <td>OTHER</td>\n",
       "      <td>3.375</td>\n",
       "      <td>116000</td>\n",
       "      <td>180</td>\n",
       "      <td>2012-01-01</td>\n",
       "      <td>03/2012</td>\n",
       "      <td>51</td>\n",
       "      <td>2.0</td>\n",
       "      <td>31.0</td>\n",
       "      <td>758.0</td>\n",
       "      <td>B12</td>\n",
       "      <td>0.0</td>\n",
       "      <td>755.0</td>\n",
       "      <td>0.0</td>\n",
       "      <td>0</td>\n",
       "      <td>1</td>\n",
       "      <td>0</td>\n",
       "      <td>0</td>\n",
       "      <td>0</td>\n",
       "      <td>0</td>\n",
       "      <td>0</td>\n",
       "      <td>0</td>\n",
       "      <td>0</td>\n",
       "      <td>0</td>\n",
       "      <td>0</td>\n",
       "      <td>0</td>\n",
       "      <td>0</td>\n",
       "    </tr>\n",
       "  </tbody>\n",
       "</table>\n",
       "</div>"
      ],
      "text/plain": [
       "  source financial_institution  interest_rate  unpaid_principal_bal  \\\n",
       "0  Y      Edwards-Hoffman       3.750          345000                 \n",
       "1  X      OTHER                 3.375          116000                 \n",
       "\n",
       "   loan_term origination_date first_payment_date  loan_to_value  \\\n",
       "0  240        2012-02-01       04/2012            42              \n",
       "1  180        2012-01-01       03/2012            51              \n",
       "\n",
       "   number_of_borrowers  debt_to_income_ratio  borrower_credit_score  \\\n",
       "0  2.0                  39.0                  806.0                   \n",
       "1  2.0                  31.0                  758.0                   \n",
       "\n",
       "  loan_purpose  insurance_percent  co-borrower_credit_score  insurance_type  \\\n",
       "0  A23          0.0                795.0                     0.0              \n",
       "1  B12          0.0                755.0                     0.0              \n",
       "\n",
       "   m1  m2  m3  m4  m5  m6  m7  m8  m9  m10  m11  m12  delinquency  \n",
       "0  0   0   0   0   0   0   0   0   0   0    0    0    0            \n",
       "1  0   1   0   0   0   0   0   0   0   0    0    0    0            "
      ]
     },
     "execution_count": 630,
     "metadata": {},
     "output_type": "execute_result"
    }
   ],
   "source": [
    "df=df.sample(frac=1,random_state=33) # shuffle data\n",
    "df_1_over= df[df.delinquency==1].sample(len(df[df.delinquency==0]),replace=True) # sample minority class with replacement\n",
    "df_s=pd.concat([df[df.delinquency==0],df_1_over])\n",
    "df_s=df_s.reset_index(drop=True)\n",
    "round(df_s.delinquency.value_counts(normalize=True),2)\n",
    "df_s.head(2)"
   ]
  },
  {
   "cell_type": "markdown",
   "metadata": {
    "heading_collapsed": true
   },
   "source": [
    "# Treat Missing Values"
   ]
  },
  {
   "cell_type": "code",
   "execution_count": 631,
   "metadata": {
    "ExecuteTime": {
     "end_time": "2019-09-25T18:50:03.397813Z",
     "start_time": "2019-09-25T18:50:03.318946Z"
    },
    "hidden": true,
    "scrolled": true
   },
   "outputs": [
    {
     "data": {
      "text/plain": [
       "source                      0.0\n",
       "financial_institution       0.0\n",
       "interest_rate               0.0\n",
       "unpaid_principal_bal        0.0\n",
       "loan_term                   0.0\n",
       "origination_date            0.0\n",
       "first_payment_date          0.0\n",
       "loan_to_value               0.0\n",
       "number_of_borrowers         0.0\n",
       "debt_to_income_ratio        0.0\n",
       "borrower_credit_score       0.0\n",
       "loan_purpose                0.0\n",
       "insurance_percent           0.0\n",
       "co-borrower_credit_score    0.0\n",
       "insurance_type              0.0\n",
       "m1                          0.0\n",
       "m2                          0.0\n",
       "m3                          0.0\n",
       "m4                          0.0\n",
       "m5                          0.0\n",
       "m6                          0.0\n",
       "m7                          0.0\n",
       "m8                          0.0\n",
       "m9                          0.0\n",
       "m10                         0.0\n",
       "m11                         0.0\n",
       "m12                         0.0\n",
       "delinquency                 0.0\n",
       "dtype: float64"
      ]
     },
     "execution_count": 631,
     "metadata": {},
     "output_type": "execute_result"
    },
    {
     "name": "stdout",
     "output_type": "stream",
     "text": [
      "\u001b[1mNo missing values\n"
     ]
    }
   ],
   "source": [
    "# check percentage of missing values\n",
    "round(df_s.isnull().mean(),3)*100\n",
    "print(\"\\033[1mNo missing values\")"
   ]
  },
  {
   "cell_type": "markdown",
   "metadata": {
    "heading_collapsed": true
   },
   "source": [
    "# EDA"
   ]
  },
  {
   "cell_type": "markdown",
   "metadata": {
    "heading_collapsed": true,
    "hidden": true
   },
   "source": [
    "## source"
   ]
  },
  {
   "cell_type": "code",
   "execution_count": 632,
   "metadata": {
    "ExecuteTime": {
     "end_time": "2019-09-25T18:50:03.434263Z",
     "start_time": "2019-09-25T18:50:03.399551Z"
    },
    "hidden": true
   },
   "outputs": [
    {
     "data": {
      "text/plain": [
       "X    51.65\n",
       "Y    35.48\n",
       "Z    12.87\n",
       "Name: source, dtype: float64"
      ]
     },
     "execution_count": 632,
     "metadata": {},
     "output_type": "execute_result"
    }
   ],
   "source": [
    "# distribution of source\n",
    "round(df_s.source.value_counts(normalize=True)*100,2)"
   ]
  },
  {
   "cell_type": "code",
   "execution_count": 633,
   "metadata": {
    "ExecuteTime": {
     "end_time": "2019-09-25T18:50:03.465861Z",
     "start_time": "2019-09-25T18:50:03.437716Z"
    },
    "hidden": true
   },
   "outputs": [
    {
     "data": {
      "text/plain": [
       "source\n",
       "X    0.467\n",
       "Y    0.545\n",
       "Z    0.510\n",
       "Name: delinquency, dtype: float64"
      ]
     },
     "execution_count": 633,
     "metadata": {},
     "output_type": "execute_result"
    },
    {
     "name": "stdout",
     "output_type": "stream",
     "text": [
      "\u001b[1mDelinquency is same across sources, doesnt have much variance\n"
     ]
    }
   ],
   "source": [
    "# source vs delinquency\n",
    "df_s.groupby('source')['delinquency'].apply(lambda x:round(x.mean(),3))\n",
    "print('\\033[1mDelinquency is same across sources, doesnt have much variance')"
   ]
  },
  {
   "cell_type": "markdown",
   "metadata": {
    "heading_collapsed": true,
    "hidden": true
   },
   "source": [
    "## financial institution"
   ]
  },
  {
   "cell_type": "code",
   "execution_count": 634,
   "metadata": {
    "ExecuteTime": {
     "end_time": "2019-09-25T18:50:03.554889Z",
     "start_time": "2019-09-25T18:50:03.525269Z"
    },
    "hidden": true
   },
   "outputs": [
    {
     "data": {
      "text/plain": [
       "OTHER                          42.68\n",
       "Browning-Hart                  27.49\n",
       "Swanson, Newton and Miller     6.57 \n",
       "Edwards-Hoffman                5.28 \n",
       "Martinez, Duffy and Bird       3.80 \n",
       "Miller, Mcclure and Allen      2.84 \n",
       "Turner, Baldwin and Rhodes     1.88 \n",
       "Nicholson Group                1.78 \n",
       "Cole, Brooks and Vincent       1.64 \n",
       "Suarez Inc                     1.16 \n",
       "Richards-Walters               1.03 \n",
       "Taylor, Hunt and Rodriguez     0.86 \n",
       "Sanchez-Robinson               0.59 \n",
       "Sanchez, Hays and Wilkerson    0.52 \n",
       "Thornton-Davis                 0.50 \n",
       "Romero, Woods and Johnson      0.48 \n",
       "Anderson-Taylor                0.44 \n",
       "Richardson Ltd                 0.29 \n",
       "Chapman-Mcmahon                0.17 \n",
       "Name: financial_institution, dtype: float64"
      ]
     },
     "execution_count": 634,
     "metadata": {},
     "output_type": "execute_result"
    }
   ],
   "source": [
    "# distribution of financial institution\n",
    "round(df_s.financial_institution.value_counts(normalize=True)*100,2)"
   ]
  },
  {
   "cell_type": "code",
   "execution_count": 635,
   "metadata": {
    "ExecuteTime": {
     "end_time": "2019-09-25T18:50:03.584363Z",
     "start_time": "2019-09-25T18:50:03.556206Z"
    },
    "hidden": true
   },
   "outputs": [
    {
     "data": {
      "text/plain": [
       "financial_institution\n",
       "Anderson-Taylor                0.527\n",
       "Browning-Hart                  0.501\n",
       "Chapman-Mcmahon                0.000\n",
       "Cole, Brooks and Vincent       0.568\n",
       "Edwards-Hoffman                0.605\n",
       "Martinez, Duffy and Bird       0.465\n",
       "Miller, Mcclure and Allen      0.521\n",
       "Nicholson Group                0.489\n",
       "OTHER                          0.498\n",
       "Richards-Walters               0.390\n",
       "Richardson Ltd                 0.285\n",
       "Romero, Woods and Johnson      0.321\n",
       "Sanchez, Hays and Wilkerson    0.294\n",
       "Sanchez-Robinson               0.120\n",
       "Suarez Inc                     0.334\n",
       "Swanson, Newton and Miller     0.550\n",
       "Taylor, Hunt and Rodriguez     0.371\n",
       "Thornton-Davis                 0.440\n",
       "Turner, Baldwin and Rhodes     0.577\n",
       "Name: delinquency, dtype: float64"
      ]
     },
     "execution_count": 635,
     "metadata": {},
     "output_type": "execute_result"
    },
    {
     "name": "stdout",
     "output_type": "stream",
     "text": [
      "\u001b[1mDelinquency is same across financial institutions, doesnt have much variance\n"
     ]
    }
   ],
   "source": [
    "# financial institution vs delinquency\n",
    "df_s.groupby('financial_institution')['delinquency'].apply(lambda x:round(x.mean(),3))\n",
    "print('\\033[1mDelinquency is same across financial institutions, doesnt have much variance')"
   ]
  },
  {
   "cell_type": "markdown",
   "metadata": {
    "heading_collapsed": true,
    "hidden": true
   },
   "source": [
    "## interest_rate"
   ]
  },
  {
   "cell_type": "code",
   "execution_count": 636,
   "metadata": {
    "ExecuteTime": {
     "end_time": "2019-09-25T18:50:03.816758Z",
     "start_time": "2019-09-25T18:50:03.654181Z"
    },
    "hidden": true
   },
   "outputs": [
    {
     "data": {
      "image/png": "[encoded data removed]",
      "text/plain": [
       "<Figure size 432x288 with 1 Axes>"
      ]
     },
     "metadata": {
      "needs_background": "light"
     },
     "output_type": "display_data"
    }
   ],
   "source": [
    "# distribution of interest rate\n",
    "df_s.interest_rate.hist();"
   ]
  },
  {
   "cell_type": "code",
   "execution_count": 637,
   "metadata": {
    "ExecuteTime": {
     "end_time": "2019-09-25T18:50:03.827997Z",
     "start_time": "2019-09-25T18:50:03.819432Z"
    },
    "hidden": true
   },
   "outputs": [
    {
     "data": {
      "text/plain": [
       "6.75"
      ]
     },
     "execution_count": 637,
     "metadata": {},
     "output_type": "execute_result"
    },
    {
     "data": {
      "text/plain": [
       "2.25"
      ]
     },
     "execution_count": 637,
     "metadata": {},
     "output_type": "execute_result"
    }
   ],
   "source": [
    "# max and min interest rates\n",
    "df_s.interest_rate.max()\n",
    "df_s.interest_rate.min()"
   ]
  },
  {
   "cell_type": "code",
   "execution_count": 638,
   "metadata": {
    "ExecuteTime": {
     "end_time": "2019-09-25T18:50:03.991178Z",
     "start_time": "2019-09-25T18:50:03.829450Z"
    },
    "hidden": true
   },
   "outputs": [
    {
     "name": "stdout",
     "output_type": "stream",
     "text": [
      "\u001b[1minterest rate and delinquency are positively correlated.\n"
     ]
    },
    {
     "data": {
      "image/png": "[encoded data removed]",
      "text/plain": [
       "<Figure size 432x288 with 1 Axes>"
      ]
     },
     "metadata": {
      "needs_background": "light"
     },
     "output_type": "display_data"
    }
   ],
   "source": [
    "# interest_rate vs delinquency\n",
    "df_s.boxplot(column='interest_rate',by='delinquency',grid=False)\n",
    "print('\\033[1minterest rate and delinquency are positively correlated.');"
   ]
  },
  {
   "cell_type": "markdown",
   "metadata": {
    "heading_collapsed": true,
    "hidden": true
   },
   "source": [
    "## unpaid_principal_bal"
   ]
  },
  {
   "cell_type": "code",
   "execution_count": 639,
   "metadata": {
    "ExecuteTime": {
     "end_time": "2019-09-25T18:50:04.132370Z",
     "start_time": "2019-09-25T18:50:03.995596Z"
    },
    "hidden": true
   },
   "outputs": [
    {
     "data": {
      "image/png": "[encoded data removed]",
      "text/plain": [
       "<Figure size 432x288 with 1 Axes>"
      ]
     },
     "metadata": {
      "needs_background": "light"
     },
     "output_type": "display_data"
    }
   ],
   "source": [
    "# distribution of unpaid_principal_bal\n",
    "df_s.unpaid_principal_bal.hist();"
   ]
  },
  {
   "cell_type": "code",
   "execution_count": 640,
   "metadata": {
    "ExecuteTime": {
     "end_time": "2019-09-25T18:50:04.146886Z",
     "start_time": "2019-09-25T18:50:04.134260Z"
    },
    "hidden": true
   },
   "outputs": [
    {
     "data": {
      "text/plain": [
       "1200000"
      ]
     },
     "execution_count": 640,
     "metadata": {},
     "output_type": "execute_result"
    },
    {
     "data": {
      "text/plain": [
       "11000"
      ]
     },
     "execution_count": 640,
     "metadata": {},
     "output_type": "execute_result"
    }
   ],
   "source": [
    "# max and min unpaid principal balance\n",
    "df_s.unpaid_principal_bal.max()\n",
    "df_s.unpaid_principal_bal.min()"
   ]
  },
  {
   "cell_type": "code",
   "execution_count": 641,
   "metadata": {
    "ExecuteTime": {
     "end_time": "2019-09-25T18:50:04.316014Z",
     "start_time": "2019-09-25T18:50:04.154526Z"
    },
    "hidden": true
   },
   "outputs": [
    {
     "name": "stdout",
     "output_type": "stream",
     "text": [
      "\u001b[1mNot much difference\n"
     ]
    },
    {
     "data": {
      "image/png": "[encoded data removed]",
      "text/plain": [
       "<Figure size 432x288 with 1 Axes>"
      ]
     },
     "metadata": {
      "needs_background": "light"
     },
     "output_type": "display_data"
    }
   ],
   "source": [
    "# unpaid_principal_bal vs delinquency\n",
    "df_s.boxplot(column='unpaid_principal_bal',by='delinquency',grid=False)\n",
    "print('\\033[1mNot much difference');"
   ]
  },
  {
   "cell_type": "markdown",
   "metadata": {
    "heading_collapsed": true,
    "hidden": true
   },
   "source": [
    "## loan_term"
   ]
  },
  {
   "cell_type": "code",
   "execution_count": 642,
   "metadata": {
    "ExecuteTime": {
     "end_time": "2019-09-25T18:50:04.489768Z",
     "start_time": "2019-09-25T18:50:04.317479Z"
    },
    "hidden": true,
    "scrolled": true
   },
   "outputs": [
    {
     "data": {
      "image/png": "[encoded data removed]",
      "text/plain": [
       "<Figure size 432x288 with 1 Axes>"
      ]
     },
     "metadata": {
      "needs_background": "light"
     },
     "output_type": "display_data"
    }
   ],
   "source": [
    "# distribution of loan term\n",
    "df_s.loan_term.hist();"
   ]
  },
  {
   "cell_type": "code",
   "execution_count": 643,
   "metadata": {
    "ExecuteTime": {
     "end_time": "2019-09-25T18:50:04.504667Z",
     "start_time": "2019-09-25T18:50:04.491396Z"
    },
    "hidden": true
   },
   "outputs": [
    {
     "data": {
      "text/plain": [
       "360"
      ]
     },
     "execution_count": 643,
     "metadata": {},
     "output_type": "execute_result"
    },
    {
     "data": {
      "text/plain": [
       "60"
      ]
     },
     "execution_count": 643,
     "metadata": {},
     "output_type": "execute_result"
    }
   ],
   "source": [
    "# max and min loan terms\n",
    "df_s.loan_term.max()\n",
    "df_s.loan_term.min()"
   ]
  },
  {
   "cell_type": "code",
   "execution_count": 644,
   "metadata": {
    "ExecuteTime": {
     "end_time": "2019-09-25T18:50:04.714319Z",
     "start_time": "2019-09-25T18:50:04.506425Z"
    },
    "hidden": true
   },
   "outputs": [
    {
     "name": "stdout",
     "output_type": "stream",
     "text": [
      "\u001b[1mNot much difference\n"
     ]
    },
    {
     "data": {
      "image/png": "[encoded data removed]",
      "text/plain": [
       "<Figure size 432x288 with 1 Axes>"
      ]
     },
     "metadata": {
      "needs_background": "light"
     },
     "output_type": "display_data"
    }
   ],
   "source": [
    "# loan_term vs delinquency\n",
    "df_s.boxplot(column='loan_term',by='delinquency',grid=False)\n",
    "print('\\33[1mNot much difference');"
   ]
  },
  {
   "cell_type": "code",
   "execution_count": 645,
   "metadata": {
    "ExecuteTime": {
     "end_time": "2019-09-25T18:50:04.956845Z",
     "start_time": "2019-09-25T18:50:04.716602Z"
    },
    "hidden": true
   },
   "outputs": [
    {
     "data": {
      "text/plain": [
       "<matplotlib.axes._subplots.AxesSubplot at 0x1a25945b70>"
      ]
     },
     "execution_count": 645,
     "metadata": {},
     "output_type": "execute_result"
    },
    {
     "data": {
      "image/png": "[encoded data removed]",
      "text/plain": [
       "<Figure size 432x288 with 1 Axes>"
      ]
     },
     "metadata": {
      "needs_background": "light"
     },
     "output_type": "display_data"
    }
   ],
   "source": [
    "# see the distribution of loan term for delinquency=1\n",
    "df_s[df_s.delinquency==1].loan_term.hist()"
   ]
  },
  {
   "cell_type": "code",
   "execution_count": 646,
   "metadata": {
    "ExecuteTime": {
     "end_time": "2019-09-25T18:50:05.217679Z",
     "start_time": "2019-09-25T18:50:04.958816Z"
    },
    "hidden": true
   },
   "outputs": [
    {
     "data": {
      "image/png": "[encoded data removed]",
      "text/plain": [
       "<Figure size 432x288 with 1 Axes>"
      ]
     },
     "metadata": {
      "needs_background": "light"
     },
     "output_type": "display_data"
    }
   ],
   "source": [
    "# see the distribution of loan term for delinquency=1\n",
    "df_s[df_s.delinquency==0].loan_term.hist();"
   ]
  },
  {
   "cell_type": "markdown",
   "metadata": {
    "heading_collapsed": true,
    "hidden": true
   },
   "source": [
    "## origination_date"
   ]
  },
  {
   "cell_type": "code",
   "execution_count": 647,
   "metadata": {
    "ExecuteTime": {
     "end_time": "2019-09-25T18:50:05.309079Z",
     "start_time": "2019-09-25T18:50:05.223909Z"
    },
    "hidden": true
   },
   "outputs": [
    {
     "data": {
      "text/html": [
       "<div>\n",
       "<style scoped>\n",
       "    .dataframe tbody tr th:only-of-type {\n",
       "        vertical-align: middle;\n",
       "    }\n",
       "\n",
       "    .dataframe tbody tr th {\n",
       "        vertical-align: top;\n",
       "    }\n",
       "\n",
       "    .dataframe thead th {\n",
       "        text-align: right;\n",
       "    }\n",
       "</style>\n",
       "<table border=\"1\" class=\"dataframe\">\n",
       "  <thead>\n",
       "    <tr style=\"text-align: right;\">\n",
       "      <th></th>\n",
       "      <th>source</th>\n",
       "      <th>financial_institution</th>\n",
       "      <th>interest_rate</th>\n",
       "      <th>unpaid_principal_bal</th>\n",
       "      <th>loan_term</th>\n",
       "      <th>origination_date</th>\n",
       "      <th>first_payment_date</th>\n",
       "      <th>loan_to_value</th>\n",
       "      <th>number_of_borrowers</th>\n",
       "      <th>debt_to_income_ratio</th>\n",
       "      <th>borrower_credit_score</th>\n",
       "      <th>loan_purpose</th>\n",
       "      <th>insurance_percent</th>\n",
       "      <th>co-borrower_credit_score</th>\n",
       "      <th>insurance_type</th>\n",
       "      <th>m1</th>\n",
       "      <th>m2</th>\n",
       "      <th>m3</th>\n",
       "      <th>m4</th>\n",
       "      <th>m5</th>\n",
       "      <th>m6</th>\n",
       "      <th>m7</th>\n",
       "      <th>m8</th>\n",
       "      <th>m9</th>\n",
       "      <th>m10</th>\n",
       "      <th>m11</th>\n",
       "      <th>m12</th>\n",
       "      <th>delinquency</th>\n",
       "    </tr>\n",
       "  </thead>\n",
       "  <tbody>\n",
       "    <tr>\n",
       "      <th>0</th>\n",
       "      <td>Y</td>\n",
       "      <td>Edwards-Hoffman</td>\n",
       "      <td>3.75</td>\n",
       "      <td>345000</td>\n",
       "      <td>240</td>\n",
       "      <td>2012-02-01</td>\n",
       "      <td>04/2012</td>\n",
       "      <td>42</td>\n",
       "      <td>2.0</td>\n",
       "      <td>39.0</td>\n",
       "      <td>806.0</td>\n",
       "      <td>A23</td>\n",
       "      <td>0.0</td>\n",
       "      <td>795.0</td>\n",
       "      <td>0.0</td>\n",
       "      <td>0</td>\n",
       "      <td>0</td>\n",
       "      <td>0</td>\n",
       "      <td>0</td>\n",
       "      <td>0</td>\n",
       "      <td>0</td>\n",
       "      <td>0</td>\n",
       "      <td>0</td>\n",
       "      <td>0</td>\n",
       "      <td>0</td>\n",
       "      <td>0</td>\n",
       "      <td>0</td>\n",
       "      <td>0</td>\n",
       "    </tr>\n",
       "  </tbody>\n",
       "</table>\n",
       "</div>"
      ],
      "text/plain": [
       "  source financial_institution  interest_rate  unpaid_principal_bal  \\\n",
       "0  Y      Edwards-Hoffman       3.75           345000                 \n",
       "\n",
       "   loan_term origination_date first_payment_date  loan_to_value  \\\n",
       "0  240       2012-02-01        04/2012            42              \n",
       "\n",
       "   number_of_borrowers  debt_to_income_ratio  borrower_credit_score  \\\n",
       "0  2.0                  39.0                  806.0                   \n",
       "\n",
       "  loan_purpose  insurance_percent  co-borrower_credit_score  insurance_type  \\\n",
       "0  A23          0.0                795.0                     0.0              \n",
       "\n",
       "   m1  m2  m3  m4  m5  m6  m7  m8  m9  m10  m11  m12  delinquency  \n",
       "0  0   0   0   0   0   0   0   0   0   0    0    0    0            "
      ]
     },
     "execution_count": 647,
     "metadata": {},
     "output_type": "execute_result"
    }
   ],
   "source": [
    "# convert origination date to datetime\n",
    "df_s.origination_date=pd.to_datetime(df_s.origination_date)\n",
    "df_s.head(1)"
   ]
  },
  {
   "cell_type": "code",
   "execution_count": 648,
   "metadata": {
    "ExecuteTime": {
     "end_time": "2019-09-25T18:50:05.364392Z",
     "start_time": "2019-09-25T18:50:05.310638Z"
    },
    "hidden": true
   },
   "outputs": [
    {
     "data": {
      "text/html": [
       "<div>\n",
       "<style scoped>\n",
       "    .dataframe tbody tr th:only-of-type {\n",
       "        vertical-align: middle;\n",
       "    }\n",
       "\n",
       "    .dataframe tbody tr th {\n",
       "        vertical-align: top;\n",
       "    }\n",
       "\n",
       "    .dataframe thead th {\n",
       "        text-align: right;\n",
       "    }\n",
       "</style>\n",
       "<table border=\"1\" class=\"dataframe\">\n",
       "  <thead>\n",
       "    <tr style=\"text-align: right;\">\n",
       "      <th></th>\n",
       "      <th>source</th>\n",
       "      <th>financial_institution</th>\n",
       "      <th>interest_rate</th>\n",
       "      <th>unpaid_principal_bal</th>\n",
       "      <th>loan_term</th>\n",
       "      <th>origination_date</th>\n",
       "      <th>first_payment_date</th>\n",
       "      <th>loan_to_value</th>\n",
       "      <th>number_of_borrowers</th>\n",
       "      <th>debt_to_income_ratio</th>\n",
       "      <th>borrower_credit_score</th>\n",
       "      <th>loan_purpose</th>\n",
       "      <th>insurance_percent</th>\n",
       "      <th>co-borrower_credit_score</th>\n",
       "      <th>insurance_type</th>\n",
       "      <th>m1</th>\n",
       "      <th>m2</th>\n",
       "      <th>m3</th>\n",
       "      <th>m4</th>\n",
       "      <th>m5</th>\n",
       "      <th>m6</th>\n",
       "      <th>m7</th>\n",
       "      <th>m8</th>\n",
       "      <th>m9</th>\n",
       "      <th>m10</th>\n",
       "      <th>m11</th>\n",
       "      <th>m12</th>\n",
       "      <th>delinquency</th>\n",
       "      <th>origination_month</th>\n",
       "    </tr>\n",
       "  </thead>\n",
       "  <tbody>\n",
       "    <tr>\n",
       "      <th>0</th>\n",
       "      <td>Y</td>\n",
       "      <td>Edwards-Hoffman</td>\n",
       "      <td>3.75</td>\n",
       "      <td>345000</td>\n",
       "      <td>240</td>\n",
       "      <td>2012-02-01</td>\n",
       "      <td>04/2012</td>\n",
       "      <td>42</td>\n",
       "      <td>2.0</td>\n",
       "      <td>39.0</td>\n",
       "      <td>806.0</td>\n",
       "      <td>A23</td>\n",
       "      <td>0.0</td>\n",
       "      <td>795.0</td>\n",
       "      <td>0.0</td>\n",
       "      <td>0</td>\n",
       "      <td>0</td>\n",
       "      <td>0</td>\n",
       "      <td>0</td>\n",
       "      <td>0</td>\n",
       "      <td>0</td>\n",
       "      <td>0</td>\n",
       "      <td>0</td>\n",
       "      <td>0</td>\n",
       "      <td>0</td>\n",
       "      <td>0</td>\n",
       "      <td>0</td>\n",
       "      <td>0</td>\n",
       "      <td>2</td>\n",
       "    </tr>\n",
       "  </tbody>\n",
       "</table>\n",
       "</div>"
      ],
      "text/plain": [
       "  source financial_institution  interest_rate  unpaid_principal_bal  \\\n",
       "0  Y      Edwards-Hoffman       3.75           345000                 \n",
       "\n",
       "   loan_term origination_date first_payment_date  loan_to_value  \\\n",
       "0  240       2012-02-01        04/2012            42              \n",
       "\n",
       "   number_of_borrowers  debt_to_income_ratio  borrower_credit_score  \\\n",
       "0  2.0                  39.0                  806.0                   \n",
       "\n",
       "  loan_purpose  insurance_percent  co-borrower_credit_score  insurance_type  \\\n",
       "0  A23          0.0                795.0                     0.0              \n",
       "\n",
       "   m1  m2  m3  m4  m5  m6  m7  m8  m9  m10  m11  m12  delinquency  \\\n",
       "0  0   0   0   0   0   0   0   0   0   0    0    0    0             \n",
       "\n",
       "   origination_month  \n",
       "0  2                  "
      ]
     },
     "execution_count": 648,
     "metadata": {},
     "output_type": "execute_result"
    }
   ],
   "source": [
    "# Extract month of origination date\n",
    "df_s['origination_month']=df_s.origination_date.dt.month\n",
    "df_s.head(1)"
   ]
  },
  {
   "cell_type": "code",
   "execution_count": 649,
   "metadata": {
    "ExecuteTime": {
     "end_time": "2019-09-25T18:50:05.436141Z",
     "start_time": "2019-09-25T18:50:05.365654Z"
    },
    "hidden": true
   },
   "outputs": [
    {
     "data": {
      "text/plain": [
       "origination_month\n",
       "1    0.529\n",
       "2    0.495\n",
       "3    0.396\n",
       "Name: delinquency, dtype: float64"
      ]
     },
     "execution_count": 649,
     "metadata": {},
     "output_type": "execute_result"
    },
    {
     "name": "stdout",
     "output_type": "stream",
     "text": [
      "\u001b[1mOrigination month and delinquency are negatively correlated\n"
     ]
    }
   ],
   "source": [
    "# Origination month vs delinquency\n",
    "df_s.groupby('origination_month')['delinquency'].apply(lambda x:round(x.mean(),3))\n",
    "print('\\33[1mOrigination month and delinquency are negatively correlated')"
   ]
  },
  {
   "cell_type": "markdown",
   "metadata": {
    "heading_collapsed": true,
    "hidden": true
   },
   "source": [
    "## first_payment_date"
   ]
  },
  {
   "cell_type": "code",
   "execution_count": 650,
   "metadata": {
    "ExecuteTime": {
     "end_time": "2019-09-25T18:50:24.414139Z",
     "start_time": "2019-09-25T18:50:05.441387Z"
    },
    "hidden": true
   },
   "outputs": [
    {
     "data": {
      "text/html": [
       "<div>\n",
       "<style scoped>\n",
       "    .dataframe tbody tr th:only-of-type {\n",
       "        vertical-align: middle;\n",
       "    }\n",
       "\n",
       "    .dataframe tbody tr th {\n",
       "        vertical-align: top;\n",
       "    }\n",
       "\n",
       "    .dataframe thead th {\n",
       "        text-align: right;\n",
       "    }\n",
       "</style>\n",
       "<table border=\"1\" class=\"dataframe\">\n",
       "  <thead>\n",
       "    <tr style=\"text-align: right;\">\n",
       "      <th></th>\n",
       "      <th>source</th>\n",
       "      <th>financial_institution</th>\n",
       "      <th>interest_rate</th>\n",
       "      <th>unpaid_principal_bal</th>\n",
       "      <th>loan_term</th>\n",
       "      <th>origination_date</th>\n",
       "      <th>first_payment_date</th>\n",
       "      <th>loan_to_value</th>\n",
       "      <th>number_of_borrowers</th>\n",
       "      <th>debt_to_income_ratio</th>\n",
       "      <th>borrower_credit_score</th>\n",
       "      <th>loan_purpose</th>\n",
       "      <th>insurance_percent</th>\n",
       "      <th>co-borrower_credit_score</th>\n",
       "      <th>insurance_type</th>\n",
       "      <th>m1</th>\n",
       "      <th>m2</th>\n",
       "      <th>m3</th>\n",
       "      <th>m4</th>\n",
       "      <th>m5</th>\n",
       "      <th>m6</th>\n",
       "      <th>m7</th>\n",
       "      <th>m8</th>\n",
       "      <th>m9</th>\n",
       "      <th>m10</th>\n",
       "      <th>m11</th>\n",
       "      <th>m12</th>\n",
       "      <th>delinquency</th>\n",
       "      <th>origination_month</th>\n",
       "    </tr>\n",
       "  </thead>\n",
       "  <tbody>\n",
       "    <tr>\n",
       "      <th>0</th>\n",
       "      <td>Y</td>\n",
       "      <td>Edwards-Hoffman</td>\n",
       "      <td>3.75</td>\n",
       "      <td>345000</td>\n",
       "      <td>240</td>\n",
       "      <td>2012-02-01</td>\n",
       "      <td>2012-04-01</td>\n",
       "      <td>42</td>\n",
       "      <td>2.0</td>\n",
       "      <td>39.0</td>\n",
       "      <td>806.0</td>\n",
       "      <td>A23</td>\n",
       "      <td>0.0</td>\n",
       "      <td>795.0</td>\n",
       "      <td>0.0</td>\n",
       "      <td>0</td>\n",
       "      <td>0</td>\n",
       "      <td>0</td>\n",
       "      <td>0</td>\n",
       "      <td>0</td>\n",
       "      <td>0</td>\n",
       "      <td>0</td>\n",
       "      <td>0</td>\n",
       "      <td>0</td>\n",
       "      <td>0</td>\n",
       "      <td>0</td>\n",
       "      <td>0</td>\n",
       "      <td>0</td>\n",
       "      <td>2</td>\n",
       "    </tr>\n",
       "  </tbody>\n",
       "</table>\n",
       "</div>"
      ],
      "text/plain": [
       "  source financial_institution  interest_rate  unpaid_principal_bal  \\\n",
       "0  Y      Edwards-Hoffman       3.75           345000                 \n",
       "\n",
       "   loan_term origination_date first_payment_date  loan_to_value  \\\n",
       "0  240       2012-02-01       2012-04-01          42              \n",
       "\n",
       "   number_of_borrowers  debt_to_income_ratio  borrower_credit_score  \\\n",
       "0  2.0                  39.0                  806.0                   \n",
       "\n",
       "  loan_purpose  insurance_percent  co-borrower_credit_score  insurance_type  \\\n",
       "0  A23          0.0                795.0                     0.0              \n",
       "\n",
       "   m1  m2  m3  m4  m5  m6  m7  m8  m9  m10  m11  m12  delinquency  \\\n",
       "0  0   0   0   0   0   0   0   0   0   0    0    0    0             \n",
       "\n",
       "   origination_month  \n",
       "0  2                  "
      ]
     },
     "execution_count": 650,
     "metadata": {},
     "output_type": "execute_result"
    }
   ],
   "source": [
    "# convert first payment date to datetime\n",
    "df_s.first_payment_date=pd.to_datetime(df_s.first_payment_date)\n",
    "df_s.head(1)"
   ]
  },
  {
   "cell_type": "code",
   "execution_count": 651,
   "metadata": {
    "ExecuteTime": {
     "end_time": "2019-09-25T18:50:24.442968Z",
     "start_time": "2019-09-25T18:50:24.415847Z"
    },
    "hidden": true
   },
   "outputs": [
    {
     "data": {
      "text/html": [
       "<div>\n",
       "<style scoped>\n",
       "    .dataframe tbody tr th:only-of-type {\n",
       "        vertical-align: middle;\n",
       "    }\n",
       "\n",
       "    .dataframe tbody tr th {\n",
       "        vertical-align: top;\n",
       "    }\n",
       "\n",
       "    .dataframe thead th {\n",
       "        text-align: right;\n",
       "    }\n",
       "</style>\n",
       "<table border=\"1\" class=\"dataframe\">\n",
       "  <thead>\n",
       "    <tr style=\"text-align: right;\">\n",
       "      <th></th>\n",
       "      <th>source</th>\n",
       "      <th>financial_institution</th>\n",
       "      <th>interest_rate</th>\n",
       "      <th>unpaid_principal_bal</th>\n",
       "      <th>loan_term</th>\n",
       "      <th>origination_date</th>\n",
       "      <th>first_payment_date</th>\n",
       "      <th>loan_to_value</th>\n",
       "      <th>number_of_borrowers</th>\n",
       "      <th>debt_to_income_ratio</th>\n",
       "      <th>borrower_credit_score</th>\n",
       "      <th>loan_purpose</th>\n",
       "      <th>insurance_percent</th>\n",
       "      <th>co-borrower_credit_score</th>\n",
       "      <th>insurance_type</th>\n",
       "      <th>m1</th>\n",
       "      <th>m2</th>\n",
       "      <th>m3</th>\n",
       "      <th>m4</th>\n",
       "      <th>m5</th>\n",
       "      <th>m6</th>\n",
       "      <th>m7</th>\n",
       "      <th>m8</th>\n",
       "      <th>m9</th>\n",
       "      <th>m10</th>\n",
       "      <th>m11</th>\n",
       "      <th>m12</th>\n",
       "      <th>delinquency</th>\n",
       "      <th>origination_month</th>\n",
       "      <th>first_payment_month</th>\n",
       "    </tr>\n",
       "  </thead>\n",
       "  <tbody>\n",
       "    <tr>\n",
       "      <th>0</th>\n",
       "      <td>Y</td>\n",
       "      <td>Edwards-Hoffman</td>\n",
       "      <td>3.75</td>\n",
       "      <td>345000</td>\n",
       "      <td>240</td>\n",
       "      <td>2012-02-01</td>\n",
       "      <td>2012-04-01</td>\n",
       "      <td>42</td>\n",
       "      <td>2.0</td>\n",
       "      <td>39.0</td>\n",
       "      <td>806.0</td>\n",
       "      <td>A23</td>\n",
       "      <td>0.0</td>\n",
       "      <td>795.0</td>\n",
       "      <td>0.0</td>\n",
       "      <td>0</td>\n",
       "      <td>0</td>\n",
       "      <td>0</td>\n",
       "      <td>0</td>\n",
       "      <td>0</td>\n",
       "      <td>0</td>\n",
       "      <td>0</td>\n",
       "      <td>0</td>\n",
       "      <td>0</td>\n",
       "      <td>0</td>\n",
       "      <td>0</td>\n",
       "      <td>0</td>\n",
       "      <td>0</td>\n",
       "      <td>2</td>\n",
       "      <td>4</td>\n",
       "    </tr>\n",
       "  </tbody>\n",
       "</table>\n",
       "</div>"
      ],
      "text/plain": [
       "  source financial_institution  interest_rate  unpaid_principal_bal  \\\n",
       "0  Y      Edwards-Hoffman       3.75           345000                 \n",
       "\n",
       "   loan_term origination_date first_payment_date  loan_to_value  \\\n",
       "0  240       2012-02-01       2012-04-01          42              \n",
       "\n",
       "   number_of_borrowers  debt_to_income_ratio  borrower_credit_score  \\\n",
       "0  2.0                  39.0                  806.0                   \n",
       "\n",
       "  loan_purpose  insurance_percent  co-borrower_credit_score  insurance_type  \\\n",
       "0  A23          0.0                795.0                     0.0              \n",
       "\n",
       "   m1  m2  m3  m4  m5  m6  m7  m8  m9  m10  m11  m12  delinquency  \\\n",
       "0  0   0   0   0   0   0   0   0   0   0    0    0    0             \n",
       "\n",
       "   origination_month  first_payment_month  \n",
       "0  2                  4                    "
      ]
     },
     "execution_count": 651,
     "metadata": {},
     "output_type": "execute_result"
    }
   ],
   "source": [
    "# Extract month of first payment date\n",
    "df_s['first_payment_month']=df_s.first_payment_date.dt.month\n",
    "df_s.head(1)"
   ]
  },
  {
   "cell_type": "code",
   "execution_count": 652,
   "metadata": {
    "ExecuteTime": {
     "end_time": "2019-09-25T18:50:24.498755Z",
     "start_time": "2019-09-25T18:50:24.444784Z"
    },
    "hidden": true
   },
   "outputs": [
    {
     "data": {
      "text/plain": [
       "first_payment_month\n",
       "2    0.678\n",
       "3    0.530\n",
       "4    0.493\n",
       "5    0.396\n",
       "Name: delinquency, dtype: float64"
      ]
     },
     "execution_count": 652,
     "metadata": {},
     "output_type": "execute_result"
    },
    {
     "name": "stdout",
     "output_type": "stream",
     "text": [
      "\u001b[1mfirst payment month and delinquency are negatively correlated.But origination and first payement date are correlated, so include one of both\n"
     ]
    }
   ],
   "source": [
    "# first_payment_month vs delinquency\n",
    "df_s.groupby('first_payment_month')['delinquency'].apply(lambda x:round(x.mean(),3))\n",
    "print('\\33[1mfirst payment month and delinquency are negatively correlated.But origination and first payement date are correlated, so include one of both')"
   ]
  },
  {
   "cell_type": "markdown",
   "metadata": {
    "heading_collapsed": true,
    "hidden": true
   },
   "source": [
    "## loan_to_value"
   ]
  },
  {
   "cell_type": "code",
   "execution_count": 653,
   "metadata": {
    "ExecuteTime": {
     "end_time": "2019-09-25T18:50:24.737569Z",
     "start_time": "2019-09-25T18:50:24.500599Z"
    },
    "hidden": true
   },
   "outputs": [
    {
     "data": {
      "image/png": "[encoded data removed]",
      "text/plain": [
       "<Figure size 432x288 with 1 Axes>"
      ]
     },
     "metadata": {
      "needs_background": "light"
     },
     "output_type": "display_data"
    }
   ],
   "source": [
    "# distribution of loan_to_value\n",
    "df_s.loan_to_value.hist();"
   ]
  },
  {
   "cell_type": "code",
   "execution_count": 654,
   "metadata": {
    "ExecuteTime": {
     "end_time": "2019-09-25T18:50:24.761533Z",
     "start_time": "2019-09-25T18:50:24.741246Z"
    },
    "hidden": true
   },
   "outputs": [
    {
     "data": {
      "text/plain": [
       "97"
      ]
     },
     "execution_count": 654,
     "metadata": {},
     "output_type": "execute_result"
    },
    {
     "data": {
      "text/plain": [
       "6"
      ]
     },
     "execution_count": 654,
     "metadata": {},
     "output_type": "execute_result"
    }
   ],
   "source": [
    "# max and min loan_to_value\n",
    "df_s.loan_to_value.max()\n",
    "df_s.loan_to_value.min()"
   ]
  },
  {
   "cell_type": "code",
   "execution_count": 655,
   "metadata": {
    "ExecuteTime": {
     "end_time": "2019-09-25T18:50:24.955070Z",
     "start_time": "2019-09-25T18:50:24.763225Z"
    },
    "hidden": true
   },
   "outputs": [
    {
     "name": "stdout",
     "output_type": "stream",
     "text": [
      "\u001b[1mloan_to_value and delinquency are positively correlated\n"
     ]
    },
    {
     "data": {
      "image/png": "[encoded data removed]",
      "text/plain": [
       "<Figure size 432x288 with 1 Axes>"
      ]
     },
     "metadata": {
      "needs_background": "light"
     },
     "output_type": "display_data"
    }
   ],
   "source": [
    "# loan_to_value vs delinquency\n",
    "df_s.boxplot(column='loan_to_value',by='delinquency',grid=False)\n",
    "print('\\033[1mloan_to_value and delinquency are positively correlated');"
   ]
  },
  {
   "cell_type": "markdown",
   "metadata": {
    "heading_collapsed": true,
    "hidden": true
   },
   "source": [
    "## number_of_borrowers"
   ]
  },
  {
   "cell_type": "code",
   "execution_count": 656,
   "metadata": {
    "ExecuteTime": {
     "end_time": "2019-09-25T18:50:25.093862Z",
     "start_time": "2019-09-25T18:50:24.956537Z"
    },
    "hidden": true
   },
   "outputs": [
    {
     "data": {
      "image/png": "[encoded data removed]",
      "text/plain": [
       "<Figure size 432x288 with 1 Axes>"
      ]
     },
     "metadata": {
      "needs_background": "light"
     },
     "output_type": "display_data"
    }
   ],
   "source": [
    "# distribution of number_of_borrowers\n",
    "df_s.number_of_borrowers.hist();"
   ]
  },
  {
   "cell_type": "code",
   "execution_count": 657,
   "metadata": {
    "ExecuteTime": {
     "end_time": "2019-09-25T18:50:25.113211Z",
     "start_time": "2019-09-25T18:50:25.096532Z"
    },
    "hidden": true
   },
   "outputs": [
    {
     "data": {
      "text/plain": [
       "number_of_borrowers\n",
       "1.0    0.624\n",
       "2.0    0.356\n",
       "Name: delinquency, dtype: float64"
      ]
     },
     "execution_count": 657,
     "metadata": {},
     "output_type": "execute_result"
    },
    {
     "name": "stdout",
     "output_type": "stream",
     "text": [
      "\u001b[1mnumber_of_borrowers and delinquency are positively correlated.\n"
     ]
    }
   ],
   "source": [
    "# first_payment_month vs delinquency\n",
    "df_s.groupby('number_of_borrowers')['delinquency'].apply(lambda x:round(x.mean(),3))\n",
    "print('\\33[1mnumber_of_borrowers and delinquency are positively correlated.')"
   ]
  },
  {
   "cell_type": "markdown",
   "metadata": {
    "heading_collapsed": true,
    "hidden": true
   },
   "source": [
    "## debt_to_income_ratio"
   ]
  },
  {
   "cell_type": "code",
   "execution_count": 658,
   "metadata": {
    "ExecuteTime": {
     "end_time": "2019-09-25T18:50:25.243135Z",
     "start_time": "2019-09-25T18:50:25.115325Z"
    },
    "hidden": true
   },
   "outputs": [
    {
     "data": {
      "image/png": "[encoded data removed]",
      "text/plain": [
       "<Figure size 432x288 with 1 Axes>"
      ]
     },
     "metadata": {
      "needs_background": "light"
     },
     "output_type": "display_data"
    }
   ],
   "source": [
    "# distribution of debt_to_income_ratio\n",
    "df_s.debt_to_income_ratio.hist(grid=False);"
   ]
  },
  {
   "cell_type": "code",
   "execution_count": 659,
   "metadata": {
    "ExecuteTime": {
     "end_time": "2019-09-25T18:50:25.257854Z",
     "start_time": "2019-09-25T18:50:25.245204Z"
    },
    "hidden": true
   },
   "outputs": [
    {
     "data": {
      "text/plain": [
       "64.0"
      ]
     },
     "execution_count": 659,
     "metadata": {},
     "output_type": "execute_result"
    },
    {
     "data": {
      "text/plain": [
       "1.0"
      ]
     },
     "execution_count": 659,
     "metadata": {},
     "output_type": "execute_result"
    }
   ],
   "source": [
    "# max and min debt_to_income_ratio\n",
    "df_s.debt_to_income_ratio.max()\n",
    "df_s.debt_to_income_ratio.min()"
   ]
  },
  {
   "cell_type": "code",
   "execution_count": 660,
   "metadata": {
    "ExecuteTime": {
     "end_time": "2019-09-25T18:50:25.405548Z",
     "start_time": "2019-09-25T18:50:25.261327Z"
    },
    "hidden": true
   },
   "outputs": [
    {
     "name": "stdout",
     "output_type": "stream",
     "text": [
      "\u001b[1mdebt_to_income_ratio and delinquency are positively correlated\n"
     ]
    },
    {
     "data": {
      "image/png": "[encoded data removed]",
      "text/plain": [
       "<Figure size 432x288 with 1 Axes>"
      ]
     },
     "metadata": {
      "needs_background": "light"
     },
     "output_type": "display_data"
    }
   ],
   "source": [
    "# debt_to_income_ratio vs delinquency\n",
    "df_s.boxplot(column='debt_to_income_ratio',by='delinquency',grid=False)\n",
    "print('\\033[1mdebt_to_income_ratio and delinquency are positively correlated');"
   ]
  },
  {
   "cell_type": "markdown",
   "metadata": {
    "heading_collapsed": true,
    "hidden": true
   },
   "source": [
    "## borrower_credit_score"
   ]
  },
  {
   "cell_type": "code",
   "execution_count": 661,
   "metadata": {
    "ExecuteTime": {
     "end_time": "2019-09-25T18:50:25.536971Z",
     "start_time": "2019-09-25T18:50:25.407443Z"
    },
    "hidden": true
   },
   "outputs": [
    {
     "data": {
      "image/png": "[encoded data removed]",
      "text/plain": [
       "<Figure size 432x288 with 1 Axes>"
      ]
     },
     "metadata": {
      "needs_background": "light"
     },
     "output_type": "display_data"
    }
   ],
   "source": [
    "# distribution of borrower_credit_score\n",
    "df_s.borrower_credit_score.hist(grid=False);"
   ]
  },
  {
   "cell_type": "code",
   "execution_count": 662,
   "metadata": {
    "ExecuteTime": {
     "end_time": "2019-09-25T18:50:25.547917Z",
     "start_time": "2019-09-25T18:50:25.538888Z"
    },
    "hidden": true
   },
   "outputs": [
    {
     "data": {
      "text/plain": [
       "840.0"
      ]
     },
     "execution_count": 662,
     "metadata": {},
     "output_type": "execute_result"
    },
    {
     "data": {
      "text/plain": [
       "0.0"
      ]
     },
     "execution_count": 662,
     "metadata": {},
     "output_type": "execute_result"
    }
   ],
   "source": [
    "# max and min borrower_credit_score\n",
    "df_s.borrower_credit_score.max()\n",
    "df_s.borrower_credit_score.min()"
   ]
  },
  {
   "cell_type": "code",
   "execution_count": 663,
   "metadata": {
    "ExecuteTime": {
     "end_time": "2019-09-25T18:50:25.834144Z",
     "start_time": "2019-09-25T18:50:25.549952Z"
    },
    "hidden": true
   },
   "outputs": [
    {
     "name": "stdout",
     "output_type": "stream",
     "text": [
      "\u001b[1mborrower_credit_score and delinquency are negatively correlated\n"
     ]
    },
    {
     "data": {
      "image/png": "[encoded data removed]",
      "text/plain": [
       "<Figure size 432x288 with 1 Axes>"
      ]
     },
     "metadata": {
      "needs_background": "light"
     },
     "output_type": "display_data"
    }
   ],
   "source": [
    "# borrower_credit_score vs delinquency\n",
    "df_s.boxplot(column='borrower_credit_score',by='delinquency',grid=False)\n",
    "print('\\033[1mborrower_credit_score and delinquency are negatively correlated');"
   ]
  },
  {
   "cell_type": "markdown",
   "metadata": {
    "heading_collapsed": true,
    "hidden": true
   },
   "source": [
    "## loan_purpose"
   ]
  },
  {
   "cell_type": "code",
   "execution_count": 664,
   "metadata": {
    "ExecuteTime": {
     "end_time": "2019-09-25T18:50:25.860520Z",
     "start_time": "2019-09-25T18:50:25.836045Z"
    },
    "hidden": true
   },
   "outputs": [
    {
     "data": {
      "text/plain": [
       "A23    41.78\n",
       "B12    29.95\n",
       "C86    28.27\n",
       "Name: loan_purpose, dtype: float64"
      ]
     },
     "execution_count": 664,
     "metadata": {},
     "output_type": "execute_result"
    }
   ],
   "source": [
    "# distribution of loan_purpose\n",
    "round(df_s.loan_purpose.value_counts(normalize=True)*100,2)"
   ]
  },
  {
   "cell_type": "code",
   "execution_count": 665,
   "metadata": {
    "ExecuteTime": {
     "end_time": "2019-09-25T18:50:25.883524Z",
     "start_time": "2019-09-25T18:50:25.862619Z"
    },
    "hidden": true
   },
   "outputs": [
    {
     "data": {
      "text/plain": [
       "loan_purpose\n",
       "A23    0.396\n",
       "B12    0.578\n",
       "C86    0.571\n",
       "Name: delinquency, dtype: float64"
      ]
     },
     "execution_count": 665,
     "metadata": {},
     "output_type": "execute_result"
    },
    {
     "name": "stdout",
     "output_type": "stream",
     "text": [
      "\u001b[1mDelinquency is not same across loan purposes\n"
     ]
    }
   ],
   "source": [
    "# loan_purpose vs delinquency\n",
    "df_s.groupby('loan_purpose')['delinquency'].apply(lambda x:round(x.mean(),3))\n",
    "print('\\033[1mDelinquency is not same across loan purposes')"
   ]
  },
  {
   "cell_type": "markdown",
   "metadata": {
    "heading_collapsed": true,
    "hidden": true
   },
   "source": [
    "## insurance_percent"
   ]
  },
  {
   "cell_type": "code",
   "execution_count": 666,
   "metadata": {
    "ExecuteTime": {
     "end_time": "2019-09-25T18:50:26.055045Z",
     "start_time": "2019-09-25T18:50:25.886302Z"
    },
    "hidden": true
   },
   "outputs": [
    {
     "data": {
      "image/png": "[encoded data removed]",
      "text/plain": [
       "<Figure size 432x288 with 1 Axes>"
      ]
     },
     "metadata": {
      "needs_background": "light"
     },
     "output_type": "display_data"
    }
   ],
   "source": [
    "# distribution of insurance_percent\n",
    "df_s.insurance_percent.hist(grid=False);"
   ]
  },
  {
   "cell_type": "code",
   "execution_count": 667,
   "metadata": {
    "ExecuteTime": {
     "end_time": "2019-09-25T18:50:26.233343Z",
     "start_time": "2019-09-25T18:50:26.057183Z"
    },
    "hidden": true
   },
   "outputs": [
    {
     "name": "stdout",
     "output_type": "stream",
     "text": [
      "\u001b[1minsurance_percent and delinquency are negatively correlated\n"
     ]
    },
    {
     "data": {
      "image/png": "[encoded data removed]",
      "text/plain": [
       "<Figure size 432x288 with 1 Axes>"
      ]
     },
     "metadata": {
      "needs_background": "light"
     },
     "output_type": "display_data"
    }
   ],
   "source": [
    "# insurance_percent vs delinquency\n",
    "df_s.boxplot(column='insurance_percent',by='delinquency',grid=False)\n",
    "print('\\033[1minsurance_percent and delinquency are negatively correlated');"
   ]
  },
  {
   "cell_type": "markdown",
   "metadata": {
    "heading_collapsed": true,
    "hidden": true
   },
   "source": [
    "## co-borrower_credit_score"
   ]
  },
  {
   "cell_type": "code",
   "execution_count": 668,
   "metadata": {
    "ExecuteTime": {
     "end_time": "2019-09-25T18:50:26.349795Z",
     "start_time": "2019-09-25T18:50:26.235225Z"
    },
    "hidden": true
   },
   "outputs": [
    {
     "data": {
      "image/png": "[encoded data removed]",
      "text/plain": [
       "<Figure size 432x288 with 1 Axes>"
      ]
     },
     "metadata": {
      "needs_background": "light"
     },
     "output_type": "display_data"
    }
   ],
   "source": [
    "# distribution of co-borrower_credit_score\n",
    "df_s['co-borrower_credit_score'].hist(grid=False);"
   ]
  },
  {
   "cell_type": "code",
   "execution_count": 669,
   "metadata": {
    "ExecuteTime": {
     "end_time": "2019-09-25T18:50:26.473683Z",
     "start_time": "2019-09-25T18:50:26.352607Z"
    },
    "hidden": true
   },
   "outputs": [
    {
     "name": "stdout",
     "output_type": "stream",
     "text": [
      "\u001b[1mco-borrower_credit_score and delinquency are negatively correlated\n"
     ]
    },
    {
     "data": {
      "image/png": "[encoded data removed]",
      "text/plain": [
       "<Figure size 432x288 with 1 Axes>"
      ]
     },
     "metadata": {
      "needs_background": "light"
     },
     "output_type": "display_data"
    }
   ],
   "source": [
    "# co-borrower_credit_score vs delinquency\n",
    "df_s.boxplot(column='co-borrower_credit_score',by='delinquency',grid=False)\n",
    "print('\\033[1mco-borrower_credit_score and delinquency are negatively correlated');"
   ]
  },
  {
   "cell_type": "markdown",
   "metadata": {
    "heading_collapsed": true,
    "hidden": true
   },
   "source": [
    "## insurance_type"
   ]
  },
  {
   "cell_type": "code",
   "execution_count": 670,
   "metadata": {
    "ExecuteTime": {
     "end_time": "2019-09-25T18:50:26.483882Z",
     "start_time": "2019-09-25T18:50:26.475529Z"
    },
    "hidden": true
   },
   "outputs": [
    {
     "data": {
      "text/plain": [
       "0.0    99.45\n",
       "1.0    0.55 \n",
       "Name: insurance_type, dtype: float64"
      ]
     },
     "execution_count": 670,
     "metadata": {},
     "output_type": "execute_result"
    }
   ],
   "source": [
    "# distribution of insurance_type\n",
    "round(df_s.insurance_type.value_counts(normalize=True)*100,2)"
   ]
  },
  {
   "cell_type": "code",
   "execution_count": 671,
   "metadata": {
    "ExecuteTime": {
     "end_time": "2019-09-25T18:50:26.498603Z",
     "start_time": "2019-09-25T18:50:26.485535Z"
    },
    "hidden": true
   },
   "outputs": [
    {
     "data": {
      "text/plain": [
       "insurance_type\n",
       "0.0    0.499\n",
       "1.0    0.707\n",
       "Name: delinquency, dtype: float64"
      ]
     },
     "execution_count": 671,
     "metadata": {},
     "output_type": "execute_result"
    },
    {
     "name": "stdout",
     "output_type": "stream",
     "text": [
      "\u001b[1mDelinquency is not same across insurance types\n"
     ]
    }
   ],
   "source": [
    "# insurance_type vs delinquency\n",
    "df_s.groupby('insurance_type')['delinquency'].apply(lambda x:round(x.mean(),3))\n",
    "print('\\033[1mDelinquency is not same across insurance types')"
   ]
  },
  {
   "cell_type": "markdown",
   "metadata": {
    "heading_collapsed": true
   },
   "source": [
    "# Feature Engineering"
   ]
  },
  {
   "cell_type": "code",
   "execution_count": 672,
   "metadata": {
    "ExecuteTime": {
     "end_time": "2019-09-25T18:50:26.552751Z",
     "start_time": "2019-09-25T18:50:26.500234Z"
    },
    "hidden": true
   },
   "outputs": [
    {
     "data": {
      "text/html": [
       "<div>\n",
       "<style scoped>\n",
       "    .dataframe tbody tr th:only-of-type {\n",
       "        vertical-align: middle;\n",
       "    }\n",
       "\n",
       "    .dataframe tbody tr th {\n",
       "        vertical-align: top;\n",
       "    }\n",
       "\n",
       "    .dataframe thead th {\n",
       "        text-align: right;\n",
       "    }\n",
       "</style>\n",
       "<table border=\"1\" class=\"dataframe\">\n",
       "  <thead>\n",
       "    <tr style=\"text-align: right;\">\n",
       "      <th></th>\n",
       "      <th>source</th>\n",
       "      <th>financial_institution</th>\n",
       "      <th>interest_rate</th>\n",
       "      <th>unpaid_principal_bal</th>\n",
       "      <th>loan_term</th>\n",
       "      <th>origination_date</th>\n",
       "      <th>first_payment_date</th>\n",
       "      <th>loan_to_value</th>\n",
       "      <th>number_of_borrowers</th>\n",
       "      <th>debt_to_income_ratio</th>\n",
       "      <th>borrower_credit_score</th>\n",
       "      <th>loan_purpose</th>\n",
       "      <th>insurance_percent</th>\n",
       "      <th>co-borrower_credit_score</th>\n",
       "      <th>insurance_type</th>\n",
       "      <th>m1</th>\n",
       "      <th>m2</th>\n",
       "      <th>m3</th>\n",
       "      <th>m4</th>\n",
       "      <th>m5</th>\n",
       "      <th>m6</th>\n",
       "      <th>m7</th>\n",
       "      <th>m8</th>\n",
       "      <th>m9</th>\n",
       "      <th>m10</th>\n",
       "      <th>m11</th>\n",
       "      <th>m12</th>\n",
       "      <th>delinquency</th>\n",
       "    </tr>\n",
       "  </thead>\n",
       "  <tbody>\n",
       "    <tr>\n",
       "      <th>10851</th>\n",
       "      <td>Y</td>\n",
       "      <td>Edwards-Hoffman</td>\n",
       "      <td>3.75</td>\n",
       "      <td>345000</td>\n",
       "      <td>240</td>\n",
       "      <td>2012-02-01</td>\n",
       "      <td>04/2012</td>\n",
       "      <td>42</td>\n",
       "      <td>2.0</td>\n",
       "      <td>39.0</td>\n",
       "      <td>806.0</td>\n",
       "      <td>A23</td>\n",
       "      <td>0.0</td>\n",
       "      <td>795.0</td>\n",
       "      <td>0.0</td>\n",
       "      <td>0</td>\n",
       "      <td>0</td>\n",
       "      <td>0</td>\n",
       "      <td>0</td>\n",
       "      <td>0</td>\n",
       "      <td>0</td>\n",
       "      <td>0</td>\n",
       "      <td>0</td>\n",
       "      <td>0</td>\n",
       "      <td>0</td>\n",
       "      <td>0</td>\n",
       "      <td>0</td>\n",
       "      <td>0</td>\n",
       "    </tr>\n",
       "  </tbody>\n",
       "</table>\n",
       "</div>"
      ],
      "text/plain": [
       "      source financial_institution  interest_rate  unpaid_principal_bal  \\\n",
       "10851  Y      Edwards-Hoffman       3.75           345000                 \n",
       "\n",
       "       loan_term origination_date first_payment_date  loan_to_value  \\\n",
       "10851  240        2012-02-01       04/2012            42              \n",
       "\n",
       "       number_of_borrowers  debt_to_income_ratio  borrower_credit_score  \\\n",
       "10851  2.0                  39.0                  806.0                   \n",
       "\n",
       "      loan_purpose  insurance_percent  co-borrower_credit_score  \\\n",
       "10851  A23          0.0                795.0                      \n",
       "\n",
       "      insurance_type  m1  m2  m3  m4  m5  m6  m7  m8  m9  m10  m11  m12  \\\n",
       "10851  0.0            0   0   0   0   0   0   0   0   0   0    0    0     \n",
       "\n",
       "       delinquency  \n",
       "10851  0            "
      ]
     },
     "execution_count": 672,
     "metadata": {},
     "output_type": "execute_result"
    }
   ],
   "source": [
    "# change data types of all categorical variables\n",
    "categorical_columns=['source','financial_institution','loan_purpose','insurance_type']\n",
    "for c in categorical_columns:\n",
    "    df[c]=df[c].astype('category')\n",
    "df.head(1)"
   ]
  },
  {
   "cell_type": "code",
   "execution_count": 673,
   "metadata": {
    "ExecuteTime": {
     "end_time": "2019-09-25T18:50:26.599213Z",
     "start_time": "2019-09-25T18:50:26.555893Z"
    },
    "hidden": true
   },
   "outputs": [
    {
     "data": {
      "text/html": [
       "<div>\n",
       "<style scoped>\n",
       "    .dataframe tbody tr th:only-of-type {\n",
       "        vertical-align: middle;\n",
       "    }\n",
       "\n",
       "    .dataframe tbody tr th {\n",
       "        vertical-align: top;\n",
       "    }\n",
       "\n",
       "    .dataframe thead th {\n",
       "        text-align: right;\n",
       "    }\n",
       "</style>\n",
       "<table border=\"1\" class=\"dataframe\">\n",
       "  <thead>\n",
       "    <tr style=\"text-align: right;\">\n",
       "      <th></th>\n",
       "      <th>source</th>\n",
       "      <th>financial_institution</th>\n",
       "      <th>interest_rate</th>\n",
       "      <th>unpaid_principal_bal</th>\n",
       "      <th>loan_term</th>\n",
       "      <th>origination_date</th>\n",
       "      <th>first_payment_date</th>\n",
       "      <th>loan_to_value</th>\n",
       "      <th>number_of_borrowers</th>\n",
       "      <th>debt_to_income_ratio</th>\n",
       "      <th>borrower_credit_score</th>\n",
       "      <th>loan_purpose</th>\n",
       "      <th>insurance_percent</th>\n",
       "      <th>co-borrower_credit_score</th>\n",
       "      <th>insurance_type</th>\n",
       "      <th>m1</th>\n",
       "      <th>m2</th>\n",
       "      <th>m3</th>\n",
       "      <th>m4</th>\n",
       "      <th>m5</th>\n",
       "      <th>m6</th>\n",
       "      <th>m7</th>\n",
       "      <th>m8</th>\n",
       "      <th>m9</th>\n",
       "      <th>m10</th>\n",
       "      <th>m11</th>\n",
       "      <th>m12</th>\n",
       "      <th>delinquency</th>\n",
       "    </tr>\n",
       "  </thead>\n",
       "  <tbody>\n",
       "    <tr>\n",
       "      <th>10851</th>\n",
       "      <td>Y</td>\n",
       "      <td>Edwards-Hoffman</td>\n",
       "      <td>3.75</td>\n",
       "      <td>345000</td>\n",
       "      <td>240</td>\n",
       "      <td>2012-02-01</td>\n",
       "      <td>04/2012</td>\n",
       "      <td>42</td>\n",
       "      <td>2.0</td>\n",
       "      <td>39.0</td>\n",
       "      <td>806.0</td>\n",
       "      <td>A23</td>\n",
       "      <td>0.0</td>\n",
       "      <td>795.0</td>\n",
       "      <td>0.0</td>\n",
       "      <td>0</td>\n",
       "      <td>0</td>\n",
       "      <td>0</td>\n",
       "      <td>0</td>\n",
       "      <td>0</td>\n",
       "      <td>0</td>\n",
       "      <td>0</td>\n",
       "      <td>0</td>\n",
       "      <td>0</td>\n",
       "      <td>0</td>\n",
       "      <td>0</td>\n",
       "      <td>0</td>\n",
       "      <td>0</td>\n",
       "    </tr>\n",
       "  </tbody>\n",
       "</table>\n",
       "</div>"
      ],
      "text/plain": [
       "      source financial_institution  interest_rate  unpaid_principal_bal  \\\n",
       "10851  Y      Edwards-Hoffman       3.75           345000                 \n",
       "\n",
       "       loan_term origination_date first_payment_date  loan_to_value  \\\n",
       "10851  240       2012-02-01        04/2012            42              \n",
       "\n",
       "       number_of_borrowers  debt_to_income_ratio  borrower_credit_score  \\\n",
       "10851  2.0                  39.0                  806.0                   \n",
       "\n",
       "      loan_purpose  insurance_percent  co-borrower_credit_score  \\\n",
       "10851  A23          0.0                795.0                      \n",
       "\n",
       "      insurance_type  m1  m2  m3  m4  m5  m6  m7  m8  m9  m10  m11  m12  \\\n",
       "10851  0.0            0   0   0   0   0   0   0   0   0   0    0    0     \n",
       "\n",
       "       delinquency  \n",
       "10851  0            "
      ]
     },
     "execution_count": 673,
     "metadata": {},
     "output_type": "execute_result"
    }
   ],
   "source": [
    "# convert origination date to datetime\n",
    "df.origination_date=pd.to_datetime(df.origination_date)\n",
    "df.head(1)"
   ]
  },
  {
   "cell_type": "code",
   "execution_count": 674,
   "metadata": {
    "ExecuteTime": {
     "end_time": "2019-09-25T18:50:36.158357Z",
     "start_time": "2019-09-25T18:50:26.601104Z"
    },
    "hidden": true
   },
   "outputs": [
    {
     "data": {
      "text/html": [
       "<div>\n",
       "<style scoped>\n",
       "    .dataframe tbody tr th:only-of-type {\n",
       "        vertical-align: middle;\n",
       "    }\n",
       "\n",
       "    .dataframe tbody tr th {\n",
       "        vertical-align: top;\n",
       "    }\n",
       "\n",
       "    .dataframe thead th {\n",
       "        text-align: right;\n",
       "    }\n",
       "</style>\n",
       "<table border=\"1\" class=\"dataframe\">\n",
       "  <thead>\n",
       "    <tr style=\"text-align: right;\">\n",
       "      <th></th>\n",
       "      <th>source</th>\n",
       "      <th>financial_institution</th>\n",
       "      <th>interest_rate</th>\n",
       "      <th>unpaid_principal_bal</th>\n",
       "      <th>loan_term</th>\n",
       "      <th>origination_date</th>\n",
       "      <th>first_payment_date</th>\n",
       "      <th>loan_to_value</th>\n",
       "      <th>number_of_borrowers</th>\n",
       "      <th>debt_to_income_ratio</th>\n",
       "      <th>borrower_credit_score</th>\n",
       "      <th>loan_purpose</th>\n",
       "      <th>insurance_percent</th>\n",
       "      <th>co-borrower_credit_score</th>\n",
       "      <th>insurance_type</th>\n",
       "      <th>m1</th>\n",
       "      <th>m2</th>\n",
       "      <th>m3</th>\n",
       "      <th>m4</th>\n",
       "      <th>m5</th>\n",
       "      <th>m6</th>\n",
       "      <th>m7</th>\n",
       "      <th>m8</th>\n",
       "      <th>m9</th>\n",
       "      <th>m10</th>\n",
       "      <th>m11</th>\n",
       "      <th>m12</th>\n",
       "      <th>delinquency</th>\n",
       "    </tr>\n",
       "  </thead>\n",
       "  <tbody>\n",
       "    <tr>\n",
       "      <th>10851</th>\n",
       "      <td>Y</td>\n",
       "      <td>Edwards-Hoffman</td>\n",
       "      <td>3.75</td>\n",
       "      <td>345000</td>\n",
       "      <td>240</td>\n",
       "      <td>2012-02-01</td>\n",
       "      <td>2012-04-01</td>\n",
       "      <td>42</td>\n",
       "      <td>2.0</td>\n",
       "      <td>39.0</td>\n",
       "      <td>806.0</td>\n",
       "      <td>A23</td>\n",
       "      <td>0.0</td>\n",
       "      <td>795.0</td>\n",
       "      <td>0.0</td>\n",
       "      <td>0</td>\n",
       "      <td>0</td>\n",
       "      <td>0</td>\n",
       "      <td>0</td>\n",
       "      <td>0</td>\n",
       "      <td>0</td>\n",
       "      <td>0</td>\n",
       "      <td>0</td>\n",
       "      <td>0</td>\n",
       "      <td>0</td>\n",
       "      <td>0</td>\n",
       "      <td>0</td>\n",
       "      <td>0</td>\n",
       "    </tr>\n",
       "  </tbody>\n",
       "</table>\n",
       "</div>"
      ],
      "text/plain": [
       "      source financial_institution  interest_rate  unpaid_principal_bal  \\\n",
       "10851  Y      Edwards-Hoffman       3.75           345000                 \n",
       "\n",
       "       loan_term origination_date first_payment_date  loan_to_value  \\\n",
       "10851  240       2012-02-01       2012-04-01          42              \n",
       "\n",
       "       number_of_borrowers  debt_to_income_ratio  borrower_credit_score  \\\n",
       "10851  2.0                  39.0                  806.0                   \n",
       "\n",
       "      loan_purpose  insurance_percent  co-borrower_credit_score  \\\n",
       "10851  A23          0.0                795.0                      \n",
       "\n",
       "      insurance_type  m1  m2  m3  m4  m5  m6  m7  m8  m9  m10  m11  m12  \\\n",
       "10851  0.0            0   0   0   0   0   0   0   0   0   0    0    0     \n",
       "\n",
       "       delinquency  \n",
       "10851  0            "
      ]
     },
     "execution_count": 674,
     "metadata": {},
     "output_type": "execute_result"
    }
   ],
   "source": [
    "# convert first payment date to datetime\n",
    "df.first_payment_date=pd.to_datetime(df.first_payment_date)\n",
    "df.head(1)"
   ]
  },
  {
   "cell_type": "code",
   "execution_count": 675,
   "metadata": {
    "ExecuteTime": {
     "end_time": "2019-09-25T18:50:36.180068Z",
     "start_time": "2019-09-25T18:50:36.163633Z"
    },
    "hidden": true
   },
   "outputs": [],
   "source": [
    "# get difference between origination and first payment date\n",
    "df['payment_after'] = (df['first_payment_date']-df['origination_date']).dt.days"
   ]
  },
  {
   "cell_type": "code",
   "execution_count": 676,
   "metadata": {
    "ExecuteTime": {
     "end_time": "2019-09-25T18:50:36.229689Z",
     "start_time": "2019-09-25T18:50:36.181676Z"
    },
    "hidden": true
   },
   "outputs": [],
   "source": [
    "# drop first payment and origination date\n",
    "df.drop(columns=['origination_date','first_payment_date'],axis=1,inplace=True)"
   ]
  },
  {
   "cell_type": "markdown",
   "metadata": {
    "heading_collapsed": true
   },
   "source": [
    "# Train and Test Split"
   ]
  },
  {
   "cell_type": "code",
   "execution_count": 677,
   "metadata": {
    "ExecuteTime": {
     "end_time": "2019-09-25T18:50:36.324308Z",
     "start_time": "2019-09-25T18:50:36.256738Z"
    },
    "hidden": true
   },
   "outputs": [
    {
     "data": {
      "text/html": [
       "<div>\n",
       "<style scoped>\n",
       "    .dataframe tbody tr th:only-of-type {\n",
       "        vertical-align: middle;\n",
       "    }\n",
       "\n",
       "    .dataframe tbody tr th {\n",
       "        vertical-align: top;\n",
       "    }\n",
       "\n",
       "    .dataframe thead th {\n",
       "        text-align: right;\n",
       "    }\n",
       "</style>\n",
       "<table border=\"1\" class=\"dataframe\">\n",
       "  <thead>\n",
       "    <tr style=\"text-align: right;\">\n",
       "      <th></th>\n",
       "      <th>source</th>\n",
       "      <th>financial_institution</th>\n",
       "      <th>interest_rate</th>\n",
       "      <th>unpaid_principal_bal</th>\n",
       "      <th>loan_term</th>\n",
       "      <th>loan_to_value</th>\n",
       "      <th>number_of_borrowers</th>\n",
       "      <th>debt_to_income_ratio</th>\n",
       "      <th>borrower_credit_score</th>\n",
       "      <th>loan_purpose</th>\n",
       "      <th>insurance_percent</th>\n",
       "      <th>co-borrower_credit_score</th>\n",
       "      <th>insurance_type</th>\n",
       "      <th>m1</th>\n",
       "      <th>m2</th>\n",
       "      <th>m3</th>\n",
       "      <th>m4</th>\n",
       "      <th>m5</th>\n",
       "      <th>m6</th>\n",
       "      <th>m7</th>\n",
       "      <th>m8</th>\n",
       "      <th>m9</th>\n",
       "      <th>m10</th>\n",
       "      <th>m11</th>\n",
       "      <th>m12</th>\n",
       "      <th>payment_after</th>\n",
       "    </tr>\n",
       "  </thead>\n",
       "  <tbody>\n",
       "    <tr>\n",
       "      <th>10851</th>\n",
       "      <td>Y</td>\n",
       "      <td>Edwards-Hoffman</td>\n",
       "      <td>3.75</td>\n",
       "      <td>345000</td>\n",
       "      <td>240</td>\n",
       "      <td>42</td>\n",
       "      <td>2.0</td>\n",
       "      <td>39.0</td>\n",
       "      <td>806.0</td>\n",
       "      <td>A23</td>\n",
       "      <td>0.0</td>\n",
       "      <td>795.0</td>\n",
       "      <td>0.0</td>\n",
       "      <td>0</td>\n",
       "      <td>0</td>\n",
       "      <td>0</td>\n",
       "      <td>0</td>\n",
       "      <td>0</td>\n",
       "      <td>0</td>\n",
       "      <td>0</td>\n",
       "      <td>0</td>\n",
       "      <td>0</td>\n",
       "      <td>0</td>\n",
       "      <td>0</td>\n",
       "      <td>0</td>\n",
       "      <td>60</td>\n",
       "    </tr>\n",
       "  </tbody>\n",
       "</table>\n",
       "</div>"
      ],
      "text/plain": [
       "      source financial_institution  interest_rate  unpaid_principal_bal  \\\n",
       "10851  Y      Edwards-Hoffman       3.75           345000                 \n",
       "\n",
       "       loan_term  loan_to_value  number_of_borrowers  debt_to_income_ratio  \\\n",
       "10851  240        42             2.0                  39.0                   \n",
       "\n",
       "       borrower_credit_score loan_purpose  insurance_percent  \\\n",
       "10851  806.0                  A23          0.0                 \n",
       "\n",
       "       co-borrower_credit_score insurance_type  m1  m2  m3  m4  m5  m6  m7  \\\n",
       "10851  795.0                     0.0            0   0   0   0   0   0   0    \n",
       "\n",
       "       m8  m9  m10  m11  m12  payment_after  \n",
       "10851  0   0   0    0    0    60             "
      ]
     },
     "execution_count": 677,
     "metadata": {},
     "output_type": "execute_result"
    }
   ],
   "source": [
    "# subset independent variables\n",
    "df_X=df[[c for c in df.columns if c not in ['delinquency']]]\n",
    "df_X.head(1)"
   ]
  },
  {
   "cell_type": "code",
   "execution_count": 678,
   "metadata": {
    "ExecuteTime": {
     "end_time": "2019-09-25T18:50:36.339259Z",
     "start_time": "2019-09-25T18:50:36.328883Z"
    },
    "hidden": true
   },
   "outputs": [
    {
     "data": {
      "text/plain": [
       "10851    0\n",
       "Name: delinquency, dtype: int64"
      ]
     },
     "execution_count": 678,
     "metadata": {},
     "output_type": "execute_result"
    }
   ],
   "source": [
    "# subset dependent variable\n",
    "df_Y=df['delinquency']\n",
    "df_Y.head(1)"
   ]
  },
  {
   "cell_type": "code",
   "execution_count": 679,
   "metadata": {
    "ExecuteTime": {
     "end_time": "2019-09-25T18:50:36.642509Z",
     "start_time": "2019-09-25T18:50:36.341957Z"
    },
    "hidden": true
   },
   "outputs": [],
   "source": [
    "# encode categorical variables\n",
    "one_hot = make_column_transformer((OneHotEncoder(sparse=False),['source', 'financial_institution', 'loan_purpose','insurance_type']),remainder='passthrough')\n",
    "df_X=one_hot.fit_transform(df_X)"
   ]
  },
  {
   "cell_type": "code",
   "execution_count": 683,
   "metadata": {
    "ExecuteTime": {
     "end_time": "2019-09-25T18:50:54.419078Z",
     "start_time": "2019-09-25T18:50:54.412307Z"
    },
    "hidden": true
   },
   "outputs": [
    {
     "data": {
      "text/plain": [
       "array([0.00e+00, 1.00e+00, 0.00e+00, 0.00e+00, 0.00e+00, 0.00e+00,\n",
       "       0.00e+00, 1.00e+00, 0.00e+00, 0.00e+00, 0.00e+00, 0.00e+00,\n",
       "       0.00e+00, 0.00e+00, 0.00e+00, 0.00e+00, 0.00e+00, 0.00e+00,\n",
       "       0.00e+00, 0.00e+00, 0.00e+00, 0.00e+00, 1.00e+00, 0.00e+00,\n",
       "       0.00e+00, 1.00e+00, 0.00e+00, 3.75e+00, 3.45e+05, 2.40e+02,\n",
       "       4.20e+01, 2.00e+00, 3.90e+01, 8.06e+02, 0.00e+00, 7.95e+02,\n",
       "       0.00e+00, 0.00e+00, 0.00e+00, 0.00e+00, 0.00e+00, 0.00e+00,\n",
       "       0.00e+00, 0.00e+00, 0.00e+00, 0.00e+00, 0.00e+00, 0.00e+00,\n",
       "       6.00e+01])"
      ]
     },
     "execution_count": 683,
     "metadata": {},
     "output_type": "execute_result"
    }
   ],
   "source": [
    "df_X[0]"
   ]
  },
  {
   "cell_type": "code",
   "execution_count": 680,
   "metadata": {
    "ExecuteTime": {
     "end_time": "2019-09-25T18:50:36.833565Z",
     "start_time": "2019-09-25T18:50:36.644918Z"
    },
    "hidden": true
   },
   "outputs": [],
   "source": [
    "# train test split\n",
    "X_train,X_test,Y_train,Y_test=train_test_split(df_X,df_Y,test_size=0.3,random_state=33)"
   ]
  },
  {
   "cell_type": "code",
   "execution_count": 681,
   "metadata": {
    "ExecuteTime": {
     "end_time": "2019-09-25T18:50:36.950154Z",
     "start_time": "2019-09-25T18:50:36.835869Z"
    },
    "hidden": true
   },
   "outputs": [],
   "source": [
    "# feature scaling\n",
    "sc = StandardScaler()\n",
    "X_train = sc.fit_transform(X_train)\n",
    "X_test = sc.transform(X_test)"
   ]
  },
  {
   "cell_type": "markdown",
   "metadata": {
    "heading_collapsed": true
   },
   "source": [
    "# Treat Class Imbalance for Modeling"
   ]
  },
  {
   "cell_type": "code",
   "execution_count": 684,
   "metadata": {
    "ExecuteTime": {
     "end_time": "2019-09-25T18:51:38.943669Z",
     "start_time": "2019-09-25T18:51:11.400404Z"
    },
    "hidden": true
   },
   "outputs": [],
   "source": [
    "# some algorithms can't handle imbalanced classes, hence oversample for them\n",
    "sm=ADASYN(random_state=33)\n",
    "X_train_s,Y_train_s=sm.fit_resample(X_train,Y_train)"
   ]
  },
  {
   "cell_type": "code",
   "execution_count": 685,
   "metadata": {
    "ExecuteTime": {
     "end_time": "2019-09-25T18:51:39.353814Z",
     "start_time": "2019-09-25T18:51:39.150136Z"
    },
    "hidden": true
   },
   "outputs": [],
   "source": [
    "# feature scaling\n",
    "sc_s = StandardScaler()\n",
    "X_train_s = sc_s.fit_transform(X_train_s)\n",
    "X_test_s = sc_s.transform(X_test)"
   ]
  },
  {
   "cell_type": "markdown",
   "metadata": {},
   "source": [
    "# Modeling"
   ]
  },
  {
   "cell_type": "markdown",
   "metadata": {
    "heading_collapsed": true
   },
   "source": [
    "## Logistic Regression"
   ]
  },
  {
   "cell_type": "code",
   "execution_count": 686,
   "metadata": {
    "ExecuteTime": {
     "end_time": "2019-09-25T18:52:43.614195Z",
     "start_time": "2019-09-25T18:51:50.039756Z"
    },
    "hidden": true
   },
   "outputs": [],
   "source": [
    "# hyper parameter tuning of logistic regression with randomized search cv\n",
    "log_model=LogisticRegression(random_state=33,solver='saga',n_jobs=5,multi_class='ovr')\n",
    "param_grid={'tol':np.arange(0,0.1,0.001),'C':range(1,10),'class_weight':range(1,10,1)}\n",
    "grid=RandomizedSearchCV(log_model,param_grid,scoring='f1',cv=5,random_state=20)\n",
    "grid.fit(X_train,Y_train);"
   ]
  },
  {
   "cell_type": "code",
   "execution_count": 687,
   "metadata": {
    "ExecuteTime": {
     "end_time": "2019-09-25T18:52:43.831152Z",
     "start_time": "2019-09-25T18:52:43.825041Z"
    },
    "hidden": true
   },
   "outputs": [
    {
     "data": {
      "text/plain": [
       "0.4436524057723783"
      ]
     },
     "execution_count": 687,
     "metadata": {},
     "output_type": "execute_result"
    },
    {
     "name": "stdout",
     "output_type": "stream",
     "text": [
      "{'tol': 0.01, 'class_weight': 6, 'C': 7}\n"
     ]
    }
   ],
   "source": [
    "# get best score and parameters\n",
    "grid.best_score_\n",
    "print(grid.best_params_)"
   ]
  },
  {
   "cell_type": "code",
   "execution_count": 688,
   "metadata": {
    "ExecuteTime": {
     "end_time": "2019-09-25T18:52:44.075781Z",
     "start_time": "2019-09-25T18:52:44.043540Z"
    },
    "hidden": true,
    "scrolled": true
   },
   "outputs": [
    {
     "data": {
      "text/plain": [
       "0.46"
      ]
     },
     "execution_count": 688,
     "metadata": {},
     "output_type": "execute_result"
    },
    {
     "data": {
      "text/plain": [
       "0.44"
      ]
     },
     "execution_count": 688,
     "metadata": {},
     "output_type": "execute_result"
    }
   ],
   "source": [
    "# take the best model \n",
    "log_model=grid.best_estimator_\n",
    "round(f1_score(Y_train,log_model.predict(X_train)),2)\n",
    "round(f1_score(Y_test,log_model.predict(X_test)),2)"
   ]
  },
  {
   "cell_type": "markdown",
   "metadata": {
    "heading_collapsed": true
   },
   "source": [
    "## Neural Networks"
   ]
  },
  {
   "cell_type": "code",
   "execution_count": 711,
   "metadata": {
    "ExecuteTime": {
     "end_time": "2019-09-25T20:19:32.698463Z",
     "start_time": "2019-09-25T20:12:23.877974Z"
    },
    "hidden": true
   },
   "outputs": [],
   "source": [
    "# hyper parameter tuning of neural networks with randomized search cv\n",
    "neu_model=MLPClassifier(learning_rate_init=0.01,learning_rate='adaptive',activation='logistic',random_state=33)\n",
    "param_grid={'hidden_layer_sizes':[(50),(100,75),(100,75,50)],'alpha':range(1,10,1)}\n",
    "grid=RandomizedSearchCV(neu_model,param_grid,scoring='f1',cv=5,n_jobs=-1,random_state=33)\n",
    "grid.fit(X_train_s,Y_train_s);"
   ]
  },
  {
   "cell_type": "code",
   "execution_count": 712,
   "metadata": {
    "ExecuteTime": {
     "end_time": "2019-09-25T20:19:32.995537Z",
     "start_time": "2019-09-25T20:19:32.989617Z"
    },
    "hidden": true
   },
   "outputs": [
    {
     "data": {
      "text/plain": [
       "0.7611259030932103"
      ]
     },
     "execution_count": 712,
     "metadata": {},
     "output_type": "execute_result"
    },
    {
     "name": "stdout",
     "output_type": "stream",
     "text": [
      "{'hidden_layer_sizes': 50, 'alpha': 1}\n"
     ]
    }
   ],
   "source": [
    "# get best score and parameters\n",
    "grid.best_score_\n",
    "print(grid.best_params_)"
   ]
  },
  {
   "cell_type": "code",
   "execution_count": 713,
   "metadata": {
    "ExecuteTime": {
     "end_time": "2019-09-25T20:19:33.479901Z",
     "start_time": "2019-09-25T20:19:33.275884Z"
    },
    "hidden": true
   },
   "outputs": [
    {
     "data": {
      "text/plain": [
       "0.79"
      ]
     },
     "execution_count": 713,
     "metadata": {},
     "output_type": "execute_result"
    },
    {
     "data": {
      "text/plain": [
       "0.05"
      ]
     },
     "execution_count": 713,
     "metadata": {},
     "output_type": "execute_result"
    },
    {
     "name": "stdout",
     "output_type": "stream",
     "text": [
      "\u001b[1mOverfitting\n"
     ]
    }
   ],
   "source": [
    "# take the best model \n",
    "neu_model=grid.best_estimator_\n",
    "round(f1_score(Y_train_s,neu_model.predict(X_train_s)),2)\n",
    "round(f1_score(Y_test,neu_model.predict(X_test_s)),2)\n",
    "print('\\033[1mOverfitting')"
   ]
  },
  {
   "cell_type": "markdown",
   "metadata": {},
   "source": [
    "## KNN"
   ]
  },
  {
   "cell_type": "code",
   "execution_count": 692,
   "metadata": {
    "ExecuteTime": {
     "end_time": "2019-09-25T19:07:22.550678Z",
     "start_time": "2019-09-25T19:05:14.755661Z"
    }
   },
   "outputs": [],
   "source": [
    "knn_model=KNeighborsClassifier(n_neighbors=10,weights='distance',algorithm='ball_tree',metric='minkowski',n_jobs=-1)\n",
    "knn_model.fit(X_train_s,Y_train_s);"
   ]
  },
  {
   "cell_type": "code",
   "execution_count": 693,
   "metadata": {
    "ExecuteTime": {
     "end_time": "2019-09-25T19:17:15.967467Z",
     "start_time": "2019-09-25T19:07:22.552456Z"
    }
   },
   "outputs": [
    {
     "data": {
      "text/plain": [
       "1.0"
      ]
     },
     "execution_count": 693,
     "metadata": {},
     "output_type": "execute_result"
    },
    {
     "data": {
      "text/plain": [
       "0.15"
      ]
     },
     "execution_count": 693,
     "metadata": {},
     "output_type": "execute_result"
    }
   ],
   "source": [
    "round(f1_score(Y_train_s,knn_model.predict(X_train_s)),2)\n",
    "round(f1_score(Y_test,knn_model.predict(X_test_s)),2)"
   ]
  },
  {
   "cell_type": "markdown",
   "metadata": {},
   "source": [
    "## Decision Tree"
   ]
  },
  {
   "cell_type": "code",
   "execution_count": 714,
   "metadata": {
    "ExecuteTime": {
     "end_time": "2019-09-25T20:19:37.054597Z",
     "start_time": "2019-09-25T20:19:33.767885Z"
    }
   },
   "outputs": [],
   "source": [
    "# hyper parameter tuning of decision tree with randomized search cv\n",
    "dec_model=DecisionTreeClassifier(random_state=33)\n",
    "param_grid=dict(max_depth=range(3,20),min_samples_split=range(50,200,10),min_samples_leaf=range(25,100,10),max_leaf_nodes=range(8,32,2),min_impurity_decrease=(0.3,1.0,0.1))\n",
    "grid=RandomizedSearchCV(dec_model,param_grid,scoring='',n_jobs=4,cv=5)\n",
    "grid.fit(X_train,Y_train);"
   ]
  },
  {
   "cell_type": "code",
   "execution_count": 715,
   "metadata": {
    "ExecuteTime": {
     "end_time": "2019-09-25T20:19:37.367218Z",
     "start_time": "2019-09-25T20:19:37.359978Z"
    }
   },
   "outputs": [
    {
     "data": {
      "text/plain": [
       "0.0"
      ]
     },
     "execution_count": 715,
     "metadata": {},
     "output_type": "execute_result"
    },
    {
     "data": {
      "text/plain": [
       "{'min_samples_split': 180,\n",
       " 'min_samples_leaf': 25,\n",
       " 'min_impurity_decrease': 0.3,\n",
       " 'max_leaf_nodes': 14,\n",
       " 'max_depth': 6}"
      ]
     },
     "execution_count": 715,
     "metadata": {},
     "output_type": "execute_result"
    }
   ],
   "source": [
    "# get best score and parameters\n",
    "grid.best_score_\n",
    "grid.best_params_"
   ]
  },
  {
   "cell_type": "code",
   "execution_count": 716,
   "metadata": {
    "ExecuteTime": {
     "end_time": "2019-09-25T20:19:37.688254Z",
     "start_time": "2019-09-25T20:19:37.640980Z"
    }
   },
   "outputs": [
    {
     "data": {
      "text/plain": [
       "0.0"
      ]
     },
     "execution_count": 716,
     "metadata": {},
     "output_type": "execute_result"
    },
    {
     "data": {
      "text/plain": [
       "0.0"
      ]
     },
     "execution_count": 716,
     "metadata": {},
     "output_type": "execute_result"
    },
    {
     "name": "stdout",
     "output_type": "stream",
     "text": [
      "\u001b[1mOverfitting\n"
     ]
    }
   ],
   "source": [
    "# take the best model \n",
    "dec_model=grid.best_estimator_\n",
    "round(f1_score(Y_train,dec_model.predict(X_train),labels=np.unique(dec_model.predict(X_train))),2)\n",
    "round(f1_score(Y_test,dec_model.predict(X_test),labels=np.unique(dec_model.predict(X_test))),2)\n",
    "print('\\033[1mOverfitting')"
   ]
  },
  {
   "cell_type": "markdown",
   "metadata": {},
   "source": [
    "## Random Forest"
   ]
  },
  {
   "cell_type": "code",
   "execution_count": 698,
   "metadata": {
    "ExecuteTime": {
     "end_time": "2019-09-25T19:23:17.988335Z",
     "start_time": "2019-09-25T19:22:34.924631Z"
    }
   },
   "outputs": [],
   "source": [
    "# hyper parameter tuning of random forest with randomized search cv\n",
    "rf_model=RandomForestClassifier(random_state=33)\n",
    "param_grid=dict(n_estimators=range(10,100,10),max_depth=range(3,20),min_samples_split=range(50,200,20),min_samples_leaf=range(25,75,10),max_leaf_nodes=range(8,32,2))\n",
    "grid=RandomizedSearchCV(rf_model,param_grid,scoring='f1',n_jobs=-1,cv=5,random_state=33)\n",
    "grid.fit(X_train,Y_train);"
   ]
  },
  {
   "cell_type": "code",
   "execution_count": 699,
   "metadata": {
    "ExecuteTime": {
     "end_time": "2019-09-25T19:23:18.277194Z",
     "start_time": "2019-09-25T19:23:18.271572Z"
    }
   },
   "outputs": [
    {
     "data": {
      "text/plain": [
       "0.3959893829272206"
      ]
     },
     "execution_count": 699,
     "metadata": {},
     "output_type": "execute_result"
    },
    {
     "name": "stdout",
     "output_type": "stream",
     "text": [
      "{'n_estimators': 20, 'min_samples_split': 50, 'min_samples_leaf': 35, 'max_leaf_nodes': 12, 'max_depth': 18}\n"
     ]
    }
   ],
   "source": [
    "# get best score and parameters\n",
    "grid.best_score_\n",
    "print(grid.best_params_)"
   ]
  },
  {
   "cell_type": "code",
   "execution_count": 700,
   "metadata": {
    "ExecuteTime": {
     "end_time": "2019-09-25T19:23:18.687981Z",
     "start_time": "2019-09-25T19:23:18.549888Z"
    }
   },
   "outputs": [
    {
     "data": {
      "text/plain": [
       "0.4"
      ]
     },
     "execution_count": 700,
     "metadata": {},
     "output_type": "execute_result"
    },
    {
     "data": {
      "text/plain": [
       "0.38"
      ]
     },
     "execution_count": 700,
     "metadata": {},
     "output_type": "execute_result"
    }
   ],
   "source": [
    "# take the best model \n",
    "rf_model=grid.best_estimator_\n",
    "round(f1_score(Y_train,rf_model.predict(X_train)),2)\n",
    "round(f1_score(Y_test,rf_model.predict(X_test)),2)"
   ]
  },
  {
   "cell_type": "markdown",
   "metadata": {
    "heading_collapsed": true
   },
   "source": [
    "## Adaboost"
   ]
  },
  {
   "cell_type": "code",
   "execution_count": 701,
   "metadata": {
    "ExecuteTime": {
     "end_time": "2019-09-25T19:26:45.066830Z",
     "start_time": "2019-09-25T19:23:18.991350Z"
    },
    "hidden": true
   },
   "outputs": [],
   "source": [
    "# hyper parameter tuning of ada boost with randomized search cv\n",
    "param_grid={'learning_rate':np.arange(0.01,0.3,0.01)}\n",
    "ada_model=AdaBoostClassifier(n_estimators=100,random_state=33)\n",
    "grid=RandomizedSearchCV(ada_model,param_grid,scoring='f1',n_jobs=-1,cv=5,random_state=33)\n",
    "grid.fit(X_train,Y_train);"
   ]
  },
  {
   "cell_type": "code",
   "execution_count": 702,
   "metadata": {
    "ExecuteTime": {
     "end_time": "2019-09-25T19:26:45.909427Z",
     "start_time": "2019-09-25T19:26:45.902412Z"
    },
    "hidden": true
   },
   "outputs": [
    {
     "data": {
      "text/plain": [
       "0.47831407567987483"
      ]
     },
     "execution_count": 702,
     "metadata": {},
     "output_type": "execute_result"
    },
    {
     "name": "stdout",
     "output_type": "stream",
     "text": [
      "{'learning_rate': 0.24000000000000002}\n"
     ]
    }
   ],
   "source": [
    "# get best score and parameters\n",
    "grid.best_score_\n",
    "print(grid.best_params_)"
   ]
  },
  {
   "cell_type": "code",
   "execution_count": 703,
   "metadata": {
    "ExecuteTime": {
     "end_time": "2019-09-25T19:26:47.697855Z",
     "start_time": "2019-09-25T19:26:46.235527Z"
    },
    "hidden": true
   },
   "outputs": [
    {
     "data": {
      "text/plain": [
       "0.48"
      ]
     },
     "execution_count": 703,
     "metadata": {},
     "output_type": "execute_result"
    },
    {
     "data": {
      "text/plain": [
       "0.46"
      ]
     },
     "execution_count": 703,
     "metadata": {},
     "output_type": "execute_result"
    }
   ],
   "source": [
    "# take the best model \n",
    "ada_model=grid.best_estimator_\n",
    "round(f1_score(Y_train,ada_model.predict(X_train)),2)\n",
    "round(f1_score(Y_test,ada_model.predict(X_test)),2)"
   ]
  },
  {
   "cell_type": "markdown",
   "metadata": {
    "heading_collapsed": true
   },
   "source": [
    "## XGBoost"
   ]
  },
  {
   "cell_type": "code",
   "execution_count": 704,
   "metadata": {
    "ExecuteTime": {
     "end_time": "2019-09-25T19:39:59.750218Z",
     "start_time": "2019-09-25T19:26:47.989673Z"
    },
    "hidden": true
   },
   "outputs": [],
   "source": [
    "# hyper parameter tuning of xgboost with randomized search cv\n",
    "xgb_model=XGBClassifier(n_jobs=-1)\n",
    "param_grid={'max_depth':range(5,15,3),'learning_rate':np.arange(0.01,0.3,0.01),'n_estimators':range(100,200,10),'min_child_weight':range(1,15,2),'reg_lambda':range(0,5,1),'subsample':np.arange(60,110,10)/100,'colsample_bylevel':np.arange(60,110,10)/100,'colsample_bytree':np.arange(60,110,10)/100,'colsample_bynode':np.arange(60,110,10)/100,'scale_pos_weight':np.arange(1,15,1)}\n",
    "grid=RandomizedSearchCV(xgb_model,param_grid,scoring='f1',n_jobs=-1,cv=5,random_state=33)\n",
    "grid.fit(X_train,Y_train);"
   ]
  },
  {
   "cell_type": "code",
   "execution_count": 705,
   "metadata": {
    "ExecuteTime": {
     "end_time": "2019-09-25T19:40:00.056577Z",
     "start_time": "2019-09-25T19:40:00.052082Z"
    },
    "hidden": true
   },
   "outputs": [
    {
     "data": {
      "text/plain": [
       "0.5259956581823991"
      ]
     },
     "execution_count": 705,
     "metadata": {},
     "output_type": "execute_result"
    },
    {
     "name": "stdout",
     "output_type": "stream",
     "text": [
      "{'subsample': 0.9, 'scale_pos_weight': 3, 'reg_lambda': 1, 'n_estimators': 130, 'min_child_weight': 13, 'max_depth': 8, 'learning_rate': 0.02, 'colsample_bytree': 1.0, 'colsample_bynode': 0.9, 'colsample_bylevel': 0.8}\n"
     ]
    }
   ],
   "source": [
    "# get best score and parameters\n",
    "grid.best_score_\n",
    "print(grid.best_params_)"
   ]
  },
  {
   "cell_type": "code",
   "execution_count": 706,
   "metadata": {
    "ExecuteTime": {
     "end_time": "2019-09-25T19:40:00.989499Z",
     "start_time": "2019-09-25T19:40:00.379898Z"
    },
    "hidden": true
   },
   "outputs": [
    {
     "data": {
      "text/plain": [
       "0.58"
      ]
     },
     "execution_count": 706,
     "metadata": {},
     "output_type": "execute_result"
    },
    {
     "data": {
      "text/plain": [
       "0.53"
      ]
     },
     "execution_count": 706,
     "metadata": {},
     "output_type": "execute_result"
    }
   ],
   "source": [
    "# take the best model \n",
    "xgb_model=grid.best_estimator_\n",
    "round(f1_score(Y_train,xgb_model.predict(X_train)),2)\n",
    "round(f1_score(Y_test,xgb_model.predict(X_test)),2)"
   ]
  },
  {
   "cell_type": "code",
   "execution_count": 707,
   "metadata": {
    "ExecuteTime": {
     "end_time": "2019-09-25T19:40:01.593941Z",
     "start_time": "2019-09-25T19:40:01.275798Z"
    },
    "hidden": true,
    "scrolled": true
   },
   "outputs": [
    {
     "data": {
      "text/plain": [
       "<Figure size 36000x36000 with 0 Axes>"
      ]
     },
     "metadata": {},
     "output_type": "display_data"
    },
    {
     "data": {
      "image/png": "[encoded data removed]",
      "text/plain": [
       "<Figure size 432x288 with 1 Axes>"
      ]
     },
     "metadata": {
      "needs_background": "light"
     },
     "output_type": "display_data"
    }
   ],
   "source": [
    "plt.figure(figsize=(500, 500))\n",
    "plot_importance(xgb_model)\n",
    "plt.show();"
   ]
  },
  {
   "cell_type": "markdown",
   "metadata": {
    "heading_collapsed": true
   },
   "source": [
    "## Submission"
   ]
  },
  {
   "cell_type": "code",
   "execution_count": 751,
   "metadata": {
    "ExecuteTime": {
     "end_time": "2019-09-25T21:00:28.609473Z",
     "start_time": "2019-09-25T21:00:28.434518Z"
    },
    "hidden": true
   },
   "outputs": [
    {
     "data": {
      "text/html": [
       "<div>\n",
       "<style scoped>\n",
       "    .dataframe tbody tr th:only-of-type {\n",
       "        vertical-align: middle;\n",
       "    }\n",
       "\n",
       "    .dataframe tbody tr th {\n",
       "        vertical-align: top;\n",
       "    }\n",
       "\n",
       "    .dataframe thead th {\n",
       "        text-align: right;\n",
       "    }\n",
       "</style>\n",
       "<table border=\"1\" class=\"dataframe\">\n",
       "  <thead>\n",
       "    <tr style=\"text-align: right;\">\n",
       "      <th></th>\n",
       "      <th>loan_id</th>\n",
       "      <th>source</th>\n",
       "      <th>financial_institution</th>\n",
       "      <th>interest_rate</th>\n",
       "      <th>unpaid_principal_bal</th>\n",
       "      <th>loan_term</th>\n",
       "      <th>origination_date</th>\n",
       "      <th>first_payment_date</th>\n",
       "      <th>loan_to_value</th>\n",
       "      <th>number_of_borrowers</th>\n",
       "      <th>debt_to_income_ratio</th>\n",
       "      <th>borrower_credit_score</th>\n",
       "      <th>loan_purpose</th>\n",
       "      <th>insurance_percent</th>\n",
       "      <th>co-borrower_credit_score</th>\n",
       "      <th>insurance_type</th>\n",
       "      <th>m1</th>\n",
       "      <th>m2</th>\n",
       "      <th>m3</th>\n",
       "      <th>m4</th>\n",
       "      <th>m5</th>\n",
       "      <th>m6</th>\n",
       "      <th>m7</th>\n",
       "      <th>m8</th>\n",
       "      <th>m9</th>\n",
       "      <th>m10</th>\n",
       "      <th>m11</th>\n",
       "      <th>m12</th>\n",
       "    </tr>\n",
       "  </thead>\n",
       "  <tbody>\n",
       "    <tr>\n",
       "      <th>0</th>\n",
       "      <td>1</td>\n",
       "      <td>Y</td>\n",
       "      <td>Browning-Hart</td>\n",
       "      <td>3.875</td>\n",
       "      <td>417000</td>\n",
       "      <td>360</td>\n",
       "      <td>01/02/12</td>\n",
       "      <td>Apr-12</td>\n",
       "      <td>75</td>\n",
       "      <td>1</td>\n",
       "      <td>20</td>\n",
       "      <td>790</td>\n",
       "      <td>A23</td>\n",
       "      <td>0</td>\n",
       "      <td>0</td>\n",
       "      <td>0</td>\n",
       "      <td>0</td>\n",
       "      <td>0</td>\n",
       "      <td>0</td>\n",
       "      <td>0</td>\n",
       "      <td>0</td>\n",
       "      <td>0</td>\n",
       "      <td>0</td>\n",
       "      <td>0</td>\n",
       "      <td>0</td>\n",
       "      <td>0</td>\n",
       "      <td>0</td>\n",
       "      <td>0</td>\n",
       "    </tr>\n",
       "    <tr>\n",
       "      <th>1</th>\n",
       "      <td>2</td>\n",
       "      <td>X</td>\n",
       "      <td>OTHER</td>\n",
       "      <td>4.500</td>\n",
       "      <td>113000</td>\n",
       "      <td>360</td>\n",
       "      <td>01/02/12</td>\n",
       "      <td>Apr-12</td>\n",
       "      <td>80</td>\n",
       "      <td>2</td>\n",
       "      <td>33</td>\n",
       "      <td>793</td>\n",
       "      <td>C86</td>\n",
       "      <td>0</td>\n",
       "      <td>784</td>\n",
       "      <td>0</td>\n",
       "      <td>0</td>\n",
       "      <td>0</td>\n",
       "      <td>0</td>\n",
       "      <td>0</td>\n",
       "      <td>0</td>\n",
       "      <td>0</td>\n",
       "      <td>0</td>\n",
       "      <td>0</td>\n",
       "      <td>0</td>\n",
       "      <td>0</td>\n",
       "      <td>0</td>\n",
       "      <td>0</td>\n",
       "    </tr>\n",
       "    <tr>\n",
       "      <th>2</th>\n",
       "      <td>3</td>\n",
       "      <td>Y</td>\n",
       "      <td>OTHER</td>\n",
       "      <td>4.500</td>\n",
       "      <td>72000</td>\n",
       "      <td>360</td>\n",
       "      <td>01/01/12</td>\n",
       "      <td>Mar-12</td>\n",
       "      <td>75</td>\n",
       "      <td>1</td>\n",
       "      <td>34</td>\n",
       "      <td>710</td>\n",
       "      <td>C86</td>\n",
       "      <td>0</td>\n",
       "      <td>0</td>\n",
       "      <td>0</td>\n",
       "      <td>0</td>\n",
       "      <td>0</td>\n",
       "      <td>0</td>\n",
       "      <td>0</td>\n",
       "      <td>0</td>\n",
       "      <td>0</td>\n",
       "      <td>0</td>\n",
       "      <td>0</td>\n",
       "      <td>0</td>\n",
       "      <td>0</td>\n",
       "      <td>0</td>\n",
       "      <td>0</td>\n",
       "    </tr>\n",
       "    <tr>\n",
       "      <th>3</th>\n",
       "      <td>4</td>\n",
       "      <td>X</td>\n",
       "      <td>Miller, Mcclure and Allen</td>\n",
       "      <td>4.125</td>\n",
       "      <td>123000</td>\n",
       "      <td>180</td>\n",
       "      <td>01/02/12</td>\n",
       "      <td>Apr-12</td>\n",
       "      <td>41</td>\n",
       "      <td>2</td>\n",
       "      <td>24</td>\n",
       "      <td>798</td>\n",
       "      <td>A23</td>\n",
       "      <td>0</td>\n",
       "      <td>813</td>\n",
       "      <td>0</td>\n",
       "      <td>0</td>\n",
       "      <td>0</td>\n",
       "      <td>0</td>\n",
       "      <td>0</td>\n",
       "      <td>0</td>\n",
       "      <td>0</td>\n",
       "      <td>0</td>\n",
       "      <td>0</td>\n",
       "      <td>0</td>\n",
       "      <td>0</td>\n",
       "      <td>0</td>\n",
       "      <td>0</td>\n",
       "    </tr>\n",
       "    <tr>\n",
       "      <th>4</th>\n",
       "      <td>5</td>\n",
       "      <td>X</td>\n",
       "      <td>Browning-Hart</td>\n",
       "      <td>3.250</td>\n",
       "      <td>166000</td>\n",
       "      <td>180</td>\n",
       "      <td>01/02/12</td>\n",
       "      <td>Apr-12</td>\n",
       "      <td>53</td>\n",
       "      <td>2</td>\n",
       "      <td>12</td>\n",
       "      <td>767</td>\n",
       "      <td>A23</td>\n",
       "      <td>0</td>\n",
       "      <td>768</td>\n",
       "      <td>0</td>\n",
       "      <td>0</td>\n",
       "      <td>0</td>\n",
       "      <td>0</td>\n",
       "      <td>0</td>\n",
       "      <td>0</td>\n",
       "      <td>0</td>\n",
       "      <td>0</td>\n",
       "      <td>0</td>\n",
       "      <td>0</td>\n",
       "      <td>0</td>\n",
       "      <td>0</td>\n",
       "      <td>0</td>\n",
       "    </tr>\n",
       "  </tbody>\n",
       "</table>\n",
       "</div>"
      ],
      "text/plain": [
       "   loan_id source      financial_institution  interest_rate  \\\n",
       "0  1        Y      Browning-Hart              3.875           \n",
       "1  2        X      OTHER                      4.500           \n",
       "2  3        Y      OTHER                      4.500           \n",
       "3  4        X      Miller, Mcclure and Allen  4.125           \n",
       "4  5        X      Browning-Hart              3.250           \n",
       "\n",
       "   unpaid_principal_bal  loan_term origination_date first_payment_date  \\\n",
       "0  417000                360        01/02/12         Apr-12              \n",
       "1  113000                360        01/02/12         Apr-12              \n",
       "2  72000                 360        01/01/12         Mar-12              \n",
       "3  123000                180        01/02/12         Apr-12              \n",
       "4  166000                180        01/02/12         Apr-12              \n",
       "\n",
       "   loan_to_value  number_of_borrowers  debt_to_income_ratio  \\\n",
       "0  75             1                    20                     \n",
       "1  80             2                    33                     \n",
       "2  75             1                    34                     \n",
       "3  41             2                    24                     \n",
       "4  53             2                    12                     \n",
       "\n",
       "   borrower_credit_score loan_purpose  insurance_percent  \\\n",
       "0  790                    A23          0                   \n",
       "1  793                    C86          0                   \n",
       "2  710                    C86          0                   \n",
       "3  798                    A23          0                   \n",
       "4  767                    A23          0                   \n",
       "\n",
       "   co-borrower_credit_score  insurance_type  m1  m2  m3  m4  m5  m6  m7  m8  \\\n",
       "0  0                         0               0   0   0   0   0   0   0   0    \n",
       "1  784                       0               0   0   0   0   0   0   0   0    \n",
       "2  0                         0               0   0   0   0   0   0   0   0    \n",
       "3  813                       0               0   0   0   0   0   0   0   0    \n",
       "4  768                       0               0   0   0   0   0   0   0   0    \n",
       "\n",
       "   m9  m10  m11  m12  \n",
       "0  0   0    0    0    \n",
       "1  0   0    0    0    \n",
       "2  0   0    0    0    \n",
       "3  0   0    0    0    \n",
       "4  0   0    0    0    "
      ]
     },
     "execution_count": 751,
     "metadata": {},
     "output_type": "execute_result"
    }
   ],
   "source": [
    "# load test data\n",
    "test=pd.read_csv('Data/test.csv')\n",
    "test.head()"
   ]
  },
  {
   "cell_type": "code",
   "execution_count": 752,
   "metadata": {
    "ExecuteTime": {
     "end_time": "2019-09-25T21:00:30.999459Z",
     "start_time": "2019-09-25T21:00:28.611284Z"
    },
    "hidden": true
   },
   "outputs": [
    {
     "data": {
      "text/html": [
       "<div>\n",
       "<style scoped>\n",
       "    .dataframe tbody tr th:only-of-type {\n",
       "        vertical-align: middle;\n",
       "    }\n",
       "\n",
       "    .dataframe tbody tr th {\n",
       "        vertical-align: top;\n",
       "    }\n",
       "\n",
       "    .dataframe thead th {\n",
       "        text-align: right;\n",
       "    }\n",
       "</style>\n",
       "<table border=\"1\" class=\"dataframe\">\n",
       "  <thead>\n",
       "    <tr style=\"text-align: right;\">\n",
       "      <th></th>\n",
       "      <th>loan_id</th>\n",
       "      <th>source</th>\n",
       "      <th>financial_institution</th>\n",
       "      <th>interest_rate</th>\n",
       "      <th>unpaid_principal_bal</th>\n",
       "      <th>loan_term</th>\n",
       "      <th>origination_date</th>\n",
       "      <th>first_payment_date</th>\n",
       "      <th>loan_to_value</th>\n",
       "      <th>number_of_borrowers</th>\n",
       "      <th>debt_to_income_ratio</th>\n",
       "      <th>borrower_credit_score</th>\n",
       "      <th>loan_purpose</th>\n",
       "      <th>insurance_percent</th>\n",
       "      <th>co-borrower_credit_score</th>\n",
       "      <th>insurance_type</th>\n",
       "      <th>m1</th>\n",
       "      <th>m2</th>\n",
       "      <th>m3</th>\n",
       "      <th>m4</th>\n",
       "      <th>m5</th>\n",
       "      <th>m6</th>\n",
       "      <th>m7</th>\n",
       "      <th>m8</th>\n",
       "      <th>m9</th>\n",
       "      <th>m10</th>\n",
       "      <th>m11</th>\n",
       "      <th>m12</th>\n",
       "    </tr>\n",
       "  </thead>\n",
       "  <tbody>\n",
       "    <tr>\n",
       "      <th>0</th>\n",
       "      <td>1</td>\n",
       "      <td>Y</td>\n",
       "      <td>Browning-Hart</td>\n",
       "      <td>3.875</td>\n",
       "      <td>417000</td>\n",
       "      <td>360</td>\n",
       "      <td>2012-01-02</td>\n",
       "      <td>Apr-12</td>\n",
       "      <td>75</td>\n",
       "      <td>1</td>\n",
       "      <td>20</td>\n",
       "      <td>790</td>\n",
       "      <td>A23</td>\n",
       "      <td>0</td>\n",
       "      <td>0</td>\n",
       "      <td>0</td>\n",
       "      <td>0</td>\n",
       "      <td>0</td>\n",
       "      <td>0</td>\n",
       "      <td>0</td>\n",
       "      <td>0</td>\n",
       "      <td>0</td>\n",
       "      <td>0</td>\n",
       "      <td>0</td>\n",
       "      <td>0</td>\n",
       "      <td>0</td>\n",
       "      <td>0</td>\n",
       "      <td>0</td>\n",
       "    </tr>\n",
       "  </tbody>\n",
       "</table>\n",
       "</div>"
      ],
      "text/plain": [
       "   loan_id source financial_institution  interest_rate  unpaid_principal_bal  \\\n",
       "0  1        Y      Browning-Hart         3.875          417000                 \n",
       "\n",
       "   loan_term origination_date first_payment_date  loan_to_value  \\\n",
       "0  360       2012-01-02        Apr-12             75              \n",
       "\n",
       "   number_of_borrowers  debt_to_income_ratio  borrower_credit_score  \\\n",
       "0  1                    20                    790                     \n",
       "\n",
       "  loan_purpose  insurance_percent  co-borrower_credit_score  insurance_type  \\\n",
       "0  A23          0                  0                         0                \n",
       "\n",
       "   m1  m2  m3  m4  m5  m6  m7  m8  m9  m10  m11  m12  \n",
       "0  0   0   0   0   0   0   0   0   0   0    0    0    "
      ]
     },
     "execution_count": 752,
     "metadata": {},
     "output_type": "execute_result"
    }
   ],
   "source": [
    "# convert origination date to datetime\n",
    "test.origination_date=pd.to_datetime(test.origination_date)\n",
    "test.head(1)"
   ]
  },
  {
   "cell_type": "code",
   "execution_count": 753,
   "metadata": {
    "ExecuteTime": {
     "end_time": "2019-09-25T21:00:31.119185Z",
     "start_time": "2019-09-25T21:00:31.001152Z"
    },
    "hidden": true
   },
   "outputs": [
    {
     "data": {
      "text/html": [
       "<div>\n",
       "<style scoped>\n",
       "    .dataframe tbody tr th:only-of-type {\n",
       "        vertical-align: middle;\n",
       "    }\n",
       "\n",
       "    .dataframe tbody tr th {\n",
       "        vertical-align: top;\n",
       "    }\n",
       "\n",
       "    .dataframe thead th {\n",
       "        text-align: right;\n",
       "    }\n",
       "</style>\n",
       "<table border=\"1\" class=\"dataframe\">\n",
       "  <thead>\n",
       "    <tr style=\"text-align: right;\">\n",
       "      <th></th>\n",
       "      <th>loan_id</th>\n",
       "      <th>source</th>\n",
       "      <th>financial_institution</th>\n",
       "      <th>interest_rate</th>\n",
       "      <th>unpaid_principal_bal</th>\n",
       "      <th>loan_term</th>\n",
       "      <th>origination_date</th>\n",
       "      <th>first_payment_date</th>\n",
       "      <th>loan_to_value</th>\n",
       "      <th>number_of_borrowers</th>\n",
       "      <th>debt_to_income_ratio</th>\n",
       "      <th>borrower_credit_score</th>\n",
       "      <th>loan_purpose</th>\n",
       "      <th>insurance_percent</th>\n",
       "      <th>co-borrower_credit_score</th>\n",
       "      <th>insurance_type</th>\n",
       "      <th>m1</th>\n",
       "      <th>m2</th>\n",
       "      <th>m3</th>\n",
       "      <th>m4</th>\n",
       "      <th>m5</th>\n",
       "      <th>m6</th>\n",
       "      <th>m7</th>\n",
       "      <th>m8</th>\n",
       "      <th>m9</th>\n",
       "      <th>m10</th>\n",
       "      <th>m11</th>\n",
       "      <th>m12</th>\n",
       "    </tr>\n",
       "  </thead>\n",
       "  <tbody>\n",
       "    <tr>\n",
       "      <th>0</th>\n",
       "      <td>1</td>\n",
       "      <td>Y</td>\n",
       "      <td>Browning-Hart</td>\n",
       "      <td>3.875</td>\n",
       "      <td>417000</td>\n",
       "      <td>360</td>\n",
       "      <td>2012-01-02</td>\n",
       "      <td>2012-04-01</td>\n",
       "      <td>75</td>\n",
       "      <td>1</td>\n",
       "      <td>20</td>\n",
       "      <td>790</td>\n",
       "      <td>A23</td>\n",
       "      <td>0</td>\n",
       "      <td>0</td>\n",
       "      <td>0</td>\n",
       "      <td>0</td>\n",
       "      <td>0</td>\n",
       "      <td>0</td>\n",
       "      <td>0</td>\n",
       "      <td>0</td>\n",
       "      <td>0</td>\n",
       "      <td>0</td>\n",
       "      <td>0</td>\n",
       "      <td>0</td>\n",
       "      <td>0</td>\n",
       "      <td>0</td>\n",
       "      <td>0</td>\n",
       "    </tr>\n",
       "  </tbody>\n",
       "</table>\n",
       "</div>"
      ],
      "text/plain": [
       "   loan_id source financial_institution  interest_rate  unpaid_principal_bal  \\\n",
       "0  1        Y      Browning-Hart         3.875          417000                 \n",
       "\n",
       "   loan_term origination_date first_payment_date  loan_to_value  \\\n",
       "0  360       2012-01-02       2012-04-01          75              \n",
       "\n",
       "   number_of_borrowers  debt_to_income_ratio  borrower_credit_score  \\\n",
       "0  1                    20                    790                     \n",
       "\n",
       "  loan_purpose  insurance_percent  co-borrower_credit_score  insurance_type  \\\n",
       "0  A23          0                  0                         0                \n",
       "\n",
       "   m1  m2  m3  m4  m5  m6  m7  m8  m9  m10  m11  m12  \n",
       "0  0   0   0   0   0   0   0   0   0   0    0    0    "
      ]
     },
     "execution_count": 753,
     "metadata": {},
     "output_type": "execute_result"
    }
   ],
   "source": [
    "# convert first payment date to datetime\n",
    "test.first_payment_date=pd.to_datetime(test.first_payment_date,format='%b-%y')\n",
    "test.head(1)"
   ]
  },
  {
   "cell_type": "code",
   "execution_count": 754,
   "metadata": {
    "ExecuteTime": {
     "end_time": "2019-09-25T21:00:31.133841Z",
     "start_time": "2019-09-25T21:00:31.121466Z"
    },
    "hidden": true
   },
   "outputs": [],
   "source": [
    "# get difference between origination and first payment date\n",
    "test['payment_after'] = (test['first_payment_date']-test['origination_date']).dt.days"
   ]
  },
  {
   "cell_type": "code",
   "execution_count": 755,
   "metadata": {
    "ExecuteTime": {
     "end_time": "2019-09-25T21:00:31.148375Z",
     "start_time": "2019-09-25T21:00:31.135472Z"
    },
    "hidden": true
   },
   "outputs": [],
   "source": [
    "# drop loan_id,first payment and origination date\n",
    "test.drop(columns=['origination_date','first_payment_date'],axis=1,inplace=True)"
   ]
  },
  {
   "cell_type": "code",
   "execution_count": 757,
   "metadata": {
    "ExecuteTime": {
     "end_time": "2019-09-25T21:01:07.870472Z",
     "start_time": "2019-09-25T21:01:07.802733Z"
    },
    "hidden": true
   },
   "outputs": [],
   "source": [
    "# one hot encode categorical variables\n",
    "test_X=one_hot.transform(test.drop(columns=['loan_id'],axis=1))"
   ]
  },
  {
   "cell_type": "code",
   "execution_count": 758,
   "metadata": {
    "ExecuteTime": {
     "end_time": "2019-09-25T21:01:26.485676Z",
     "start_time": "2019-09-25T21:01:26.455188Z"
    },
    "hidden": true
   },
   "outputs": [],
   "source": [
    "# feature scaling\n",
    "test_X=sc.transform(test_X)"
   ]
  },
  {
   "cell_type": "code",
   "execution_count": 761,
   "metadata": {
    "ExecuteTime": {
     "end_time": "2019-09-25T21:03:48.670986Z",
     "start_time": "2019-09-25T21:03:48.443508Z"
    },
    "hidden": true
   },
   "outputs": [
    {
     "data": {
      "text/html": [
       "<div>\n",
       "<style scoped>\n",
       "    .dataframe tbody tr th:only-of-type {\n",
       "        vertical-align: middle;\n",
       "    }\n",
       "\n",
       "    .dataframe tbody tr th {\n",
       "        vertical-align: top;\n",
       "    }\n",
       "\n",
       "    .dataframe thead th {\n",
       "        text-align: right;\n",
       "    }\n",
       "</style>\n",
       "<table border=\"1\" class=\"dataframe\">\n",
       "  <thead>\n",
       "    <tr style=\"text-align: right;\">\n",
       "      <th></th>\n",
       "      <th>loan_id</th>\n",
       "      <th>m13</th>\n",
       "    </tr>\n",
       "  </thead>\n",
       "  <tbody>\n",
       "    <tr>\n",
       "      <th>0</th>\n",
       "      <td>1</td>\n",
       "      <td>0</td>\n",
       "    </tr>\n",
       "    <tr>\n",
       "      <th>1</th>\n",
       "      <td>2</td>\n",
       "      <td>0</td>\n",
       "    </tr>\n",
       "    <tr>\n",
       "      <th>2</th>\n",
       "      <td>3</td>\n",
       "      <td>0</td>\n",
       "    </tr>\n",
       "    <tr>\n",
       "      <th>3</th>\n",
       "      <td>4</td>\n",
       "      <td>0</td>\n",
       "    </tr>\n",
       "    <tr>\n",
       "      <th>4</th>\n",
       "      <td>5</td>\n",
       "      <td>0</td>\n",
       "    </tr>\n",
       "  </tbody>\n",
       "</table>\n",
       "</div>"
      ],
      "text/plain": [
       "   loan_id  m13\n",
       "0  1        0  \n",
       "1  2        0  \n",
       "2  3        0  \n",
       "3  4        0  \n",
       "4  5        0  "
      ]
     },
     "execution_count": 761,
     "metadata": {},
     "output_type": "execute_result"
    }
   ],
   "source": [
    "# predict with XGBoost\n",
    "final_submission=pd.DataFrame({'loan_id':test.loan_id,'m13':xgb_model.predict(test_X)})\n",
    "final_submission.head()"
   ]
  },
  {
   "cell_type": "code",
   "execution_count": 762,
   "metadata": {
    "ExecuteTime": {
     "end_time": "2019-09-25T21:03:52.419726Z",
     "start_time": "2019-09-25T21:03:52.412048Z"
    },
    "hidden": true
   },
   "outputs": [
    {
     "data": {
      "text/plain": [
       "0    35738\n",
       "1    128  \n",
       "Name: m13, dtype: int64"
      ]
     },
     "execution_count": 762,
     "metadata": {},
     "output_type": "execute_result"
    }
   ],
   "source": [
    "# check the distribution of predictions\n",
    "final_submission.m13.value_counts()"
   ]
  },
  {
   "cell_type": "code",
   "execution_count": 763,
   "metadata": {
    "ExecuteTime": {
     "end_time": "2019-09-25T21:04:32.465795Z",
     "start_time": "2019-09-25T21:04:32.349626Z"
    },
    "hidden": true
   },
   "outputs": [],
   "source": [
    "final_submission.to_csv('final_submission.csv',header=True,index=None)"
   ]
  }
 ],
 "metadata": {
  "kernelspec": {
   "display_name": "Python 3",
   "language": "python",
   "name": "python3"
  },
  "language_info": {
   "codemirror_mode": {
    "name": "ipython",
    "version": 3
   },
   "file_extension": ".py",
   "mimetype": "text/x-python",
   "name": "python",
   "nbconvert_exporter": "python",
   "pygments_lexer": "ipython3",
   "version": "3.7.2"
  },
  "toc": {
   "base_numbering": 1,
   "nav_menu": {},
   "number_sections": true,
   "sideBar": true,
   "skip_h1_title": false,
   "title_cell": "Table of Contents",
   "title_sidebar": "Contents",
   "toc_cell": false,
   "toc_position": {},
   "toc_section_display": true,
   "toc_window_display": false
  },
  "varInspector": {
   "cols": {
    "lenName": 16,
    "lenType": 16,
    "lenVar": 40
   },
   "kernels_config": {
    "python": {
     "delete_cmd_postfix": "",
     "delete_cmd_prefix": "del ",
     "library": "var_list.py",
     "varRefreshCmd": "print(var_dic_list())"
    },
    "r": {
     "delete_cmd_postfix": ") ",
     "delete_cmd_prefix": "rm(",
     "library": "var_list.r",
     "varRefreshCmd": "cat(var_dic_list()) "
    }
   },
   "types_to_exclude": [
    "module",
    "function",
    "builtin_function_or_method",
    "instance",
    "_Feature"
   ],
   "window_display": false
  }
 },
 "nbformat": 4,
 "nbformat_minor": 2
}
